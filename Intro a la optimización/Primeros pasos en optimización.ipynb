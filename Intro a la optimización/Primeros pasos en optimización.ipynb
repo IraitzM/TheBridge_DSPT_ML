{
 "cells": [
  {
   "cell_type": "markdown",
   "metadata": {
    "colab_type": "text",
    "id": "GLie_cEH_lZm"
   },
   "source": [
    "# Optimización\n",
    "\n",
    "## ¿Qué es un problema de optimización?\n",
    "El objetivo de la optimización es encontrar la mejor solución para un problema de un amplio conjunto de soluciones posibles.\n",
    "\n",
    "Este es un problema de **optimización** típico. Esencialmente al ejercicio en el que obtenemos los mejores valores para `maximizar`/`minimizar` una función objetivo dados (o no) una serie de condicionantes.\n",
    "\n",
    "Supongamos que una empresa de transporte entrega paquetes a sus clientes mediante una flota de camiones. Todos los días, la empresa debe asignar paquetes a los camiones y, luego, elegir una ruta para que cada camión entregue los paquetes. Cada asignación posible de paquetes y rutas tiene un coste, según la distancia total de viaje de los camiones y posiblemente otros factores. El problema es elegir las asignaciones de paquetes y rutas que tienen el menor costo.\n",
    "\n",
    "Como todos los problemas de optimización, este tiene los siguientes elementos:\n",
    "\n",
    "* **El objetivo**: la cantidad que deseas optimizar. En el ejemplo anterior, el objetivo es minimizar el costo. Para configurar un problema de optimización, debes definir una función que calcule el valor del objetivo para cualquier solución posible. Esto se denomina función objetivo. En el ejemplo anterior, la función objetiva calcularía el costo total de cualquier asignación de paquetes y rutas.\n",
    "\n",
    "Una solución óptima es aquella para la que el valor de la función objetiva es el mejor. (\"Muy bueno\" puede ser un máximo o un mínimo).\n",
    "\n",
    "* **Las restricciones**: restricciones sobre el conjunto de soluciones posibles, según los requisitos específicos del problema. Por ejemplo, si la empresa de transporte no puede asignar paquetes superiores a un peso determinado a los camiones, esto impone una restricción para las soluciones.\n",
    "\n",
    "Una solución posible es aquella que cumple con todas las restricciones determinadas para el problema, sin ser óptima. Pero en caso de existir, nos gustaría encontrar la solución que ofrece el valor `maximo`/`mínimo` a nuestro objetivo.\n",
    "\n",
    "Formalmente solemos plantearlo de la siguiente manera:\n",
    "\n",
    "$$\n",
    "\\begin{equation*}\n",
    "\\begin{aligned}\n",
    "& \\underset{x}{\\text{minimize}}\n",
    "& & f_0(x) \\\\\n",
    "& \\text{subject to}\n",
    "& & f_i(x) \\leq b_i, \\; i = 1, \\ldots, m.\n",
    "\\end{aligned}\n",
    "\\end{equation*}\n",
    "$$\n",
    "\n",
    "De modo que $f_0$ será aquella relación de las variables $x$ de las que queremos sacar el máximo provecho y $f_i$ serán las restricciones que deberemos cumplir."
   ]
  },
  {
   "cell_type": "markdown",
   "metadata": {
    "colab_type": "text",
    "id": "pvQhFOFZ_lbM"
   },
   "source": [
    "### Programación lineal\n",
    "\n",
    "La [programación lineal](http://es.wikipedia.org/wiki/Programaci%C3%B3n_lineal) estudia las situaciones en las que se exige maximizar o minimizar funciones que se encuentran sujetas a determinadas restricciones cuando todas estas corresponden a una relación lineal ($c_ix_i$).\n",
    "\n",
    "Consiste en optimizar (minimizar o maximizar) una función lineal, denominada función objetivo, de tal forma que las variables de dicha función estén sujetas a una serie de restricciones que expresamos mediante un [sistema de inecuaciones lineales](http://es.wikipedia.org/wiki/Inecuaci%C3%B3n#Sistema_de_inecuaciones).\n",
    "\n",
    "Para resolver un problema de programación lineal, debemos seguir los siguientes pasos:\n",
    "\n",
    "1. Elegir las incógnitas.\n",
    "\n",
    "2. Escribir la función objetivo en función de los datos del problema.\n",
    "\n",
    "3. Escribir las restricciones en forma de sistema de inecuaciones.\n",
    "\n",
    "4. Averiguar el conjunto de soluciones factibles representando gráficamente las restricciones.\n",
    "\n",
    "5. Calcular las coordenadas de los vértices del recinto de soluciones factibles (si son pocos).\n",
    "\n",
    "6. Calcular el valor de la función objetivo en cada uno de los vértices para ver en cuál de ellos presenta el valor máximo o mínimo según nos pida el problema (hay que tener en cuenta aquí la posible no existencia de solución).\n",
    "\n",
    "Veamos un ejemplo y como [Python](http://python.org/) nos ayuda a resolverlo en forma sencilla.\n",
    "\n",
    "#### Ejemplo\n",
    "\n",
    "Digamos que trabajamos para una empresa que fabrica diferentes productos. Para cada producto disponemos de una producción $x_i$ donde $i$ indica el producto que fabricamos cada día. Queremos saber cual es la producción optima de productos de cara a maximizar el beneficio diario teniendo en cuenta que: \n",
    "\n",
    "* El beneficio de fabricación por producto es $20, $12, $40, y $25 para los productos 1,2,3 y 4 respectivamente.\n",
    "* Debido a los empleados diarios y otras restricciones de almacén no podemos producir más de 50 unidades cada día.\n",
    "* Cada unidad del primer producto ($x_1$) consume 3 unidades de la materia base $A$.\n",
    "* Cada unidad del segundo producto ($x_2$) consume 2 unidades de la materia base $A$ y una unidad del meterial $B$.\n",
    "* Cada unidad del tercer producto ($x_3$) consume 1 unidad de la materia base $A$ y 2 unidades del meterial $B$.\n",
    "* Cada unidad del cuarto producto ($x_4$) consume 3 unidades del meterial $B$.\n",
    "* Cada día se disponen como mucho de 100 unidades de la materia prima $A$ y 90 de la $B$.\n",
    "\n",
    "Esto nos dejaría una formulación del problema como la siguiente:\n",
    "\n",
    "$$\n",
    "\\begin{equation*}\n",
    "\\begin{aligned}\n",
    "& \\underset{x}{\\text{maximize}}\n",
    "& 20x_1 + 12x_2 + 40x_3 + 25x_4 \\\\\n",
    "& \\text{subject to}\n",
    "& \\sum_i x_i \\le 50 \\\\\n",
    "& & 3x_1 + 2x_2 + x_3 \\le 100 \\\\\n",
    "& & x_2 + 2x_3 + 3x_4 \\le 90 \\\\\n",
    "& & \\forall i, x_i \\geq 0\n",
    "\\end{aligned}\n",
    "\\end{equation*}\n",
    "$$\n",
    "\n",
    "Deberemos disponer de algún método capaz de arrojar potenciales soluciones para nuestras incógnitas y que basado en el valor de la función objetivo podamos estimar cada vez mejores soluciones a nuestro problema. \n",
    "\n",
    "Uno de los métodos clásicos a la hora de implementar estas operaciones es el [método simplex](https://es.wikipedia.org/wiki/Algoritmo_s%C3%ADmplex). Gracias a la comunidad open source disponemos de multitud de herramientas que ya lo implementan de manera que solo deberemos saber cómo expresar nuestro problema.\n",
    "\n",
    "Algunas librerías utilizadas son:\n",
    "\n",
    "* [SciPy](https://docs.scipy.org/doc/scipy/reference/optimize.html)\n",
    "* [PuLP](https://www.coin-or.org/PuLP/solvers.html)\n",
    "* [CVXOPT](https://cvxopt.org/userguide/coneprog.html#optional-solvers)"
   ]
  },
  {
   "cell_type": "markdown",
   "metadata": {},
   "source": [
    "Muchas de las soluciones trabajan con funciones de minimización que únicamente requiere cambiar la función objetivo en nuestro caso:\n",
    "\n",
    "$$\n",
    "\\begin{equation*}\n",
    "\\begin{aligned}\n",
    "& \\underset{x}{\\text{minimize}}\n",
    "& -20x_1 - 12x_2 - 40x_3 - 25x_4 \\\\\n",
    "& \\text{subject to}\n",
    "& \\sum_i x_i \\le 50 \\\\\n",
    "& & 3x_1 + 2x_2 + x_3 \\le 100 \\\\\n",
    "& & x_2 + 2x_3 + 3x_4 \\le 90 \\\\\n",
    "& & \\forall i, x_i \\geq 0\n",
    "\\end{aligned}\n",
    "\\end{equation*}\n",
    "$$"
   ]
  },
  {
   "cell_type": "code",
   "execution_count": null,
   "metadata": {},
   "outputs": [],
   "source": [
    "# Coeficientes de cada una de las variables a determinar\n",
    "# multiplicados por -1 para cambiar la dirección\n",
    "obj = [-20, -12, -40, -25]"
   ]
  },
  {
   "cell_type": "markdown",
   "metadata": {},
   "source": [
    "Si planteamos las restricciones como operaciones matriciales...\n",
    "\n",
    "$$\n",
    "\\begin{bmatrix}\n",
    "1 & 1 & 1 & 1 \\\\\n",
    "3 & 2 & 1 & 0 \\\\\n",
    "0 & 1 & 2 & 3 \\\\ \n",
    "\\end{bmatrix}\n",
    "\n",
    "\\begin{bmatrix}\n",
    "x_1 & \\\\\n",
    "x_2 & \\\\\n",
    "x_3 & \\\\\n",
    "x_4 \n",
    "\\end{bmatrix} \n",
    "\\le \n",
    "\\begin{bmatrix}\n",
    "50 & \\\\\n",
    "100 & \\\\\n",
    "90\n",
    "\\end{bmatrix}$$\n",
    "\n",
    "$$"
   ]
  },
  {
   "cell_type": "code",
   "execution_count": null,
   "metadata": {},
   "outputs": [],
   "source": [
    "lhs_ineq = [[1, 1, 1, 1],  # Capacidad\n",
    "            [3, 2, 1, 0],  # Material A\n",
    "            [0, 1, 2, 3]]  # Material B\n",
    "\n",
    "rhs_ineq = [ 50,  # Capacidad\n",
    "            100,  # Material A\n",
    "             90]  # Material B"
   ]
  },
  {
   "cell_type": "code",
   "execution_count": null,
   "metadata": {},
   "outputs": [],
   "source": [
    "from scipy.optimize import linprog\n",
    "\n",
    "opt = linprog(c=obj, A_ub=lhs_ineq, b_ub=rhs_ineq, method=\"highs\") # simplex va a ser deprecado en favor de Highs\n",
    "opt"
   ]
  },
  {
   "cell_type": "markdown",
   "metadata": {},
   "source": [
    "De modo que nuestra fabricación óptima debería ser la siguiente"
   ]
  },
  {
   "cell_type": "code",
   "execution_count": null,
   "metadata": {},
   "outputs": [],
   "source": [
    "opt.x"
   ]
  },
  {
   "cell_type": "markdown",
   "metadata": {},
   "source": [
    "¿Qué pasa si fabricamos todo del tercer producto? Debería darnos más beneficio ¿no?"
   ]
  },
  {
   "cell_type": "code",
   "execution_count": null,
   "metadata": {},
   "outputs": [],
   "source": [
    "import numpy as np\n",
    "\n",
    "nuestra_solución = [0, 0, 50, 0]\n",
    "restricciones = np.dot(lhs_ineq, nuestra_solución)\n",
    "\n",
    "restricciones <= rhs_ineq"
   ]
  },
  {
   "cell_type": "code",
   "execution_count": null,
   "metadata": {},
   "outputs": [],
   "source": [
    "restricciones"
   ]
  },
  {
   "cell_type": "markdown",
   "metadata": {},
   "source": [
    "No podríamos cumplir con la fabricación dado que no dispondríamos de las 100 unidades de material $B$ necesario y acumularíamos más stock del material $A$ a la larga."
   ]
  },
  {
   "cell_type": "code",
   "execution_count": null,
   "metadata": {},
   "outputs": [],
   "source": [
    "restricciones = np.dot(lhs_ineq, opt.x)\n",
    "\n",
    "restricciones <= rhs_ineq"
   ]
  },
  {
   "cell_type": "code",
   "execution_count": null,
   "metadata": {},
   "outputs": [],
   "source": [
    "restricciones"
   ]
  },
  {
   "cell_type": "markdown",
   "metadata": {},
   "source": [
    "Es un uso más eficiente de los recursos a corto medio plazo. Pensad que en una fábrica deberíamos resolver este problema con un carácter diario y teniendo en cuenta los cambios de stock intradía. Por ejemplo, para el siguiente día al primero nuestros stock de material varía con lo que deberemos modificar el pedido de material $A$ a únicamente 40 piezas ya que no podremos almacenar más debido al stock del día anterior."
   ]
  },
  {
   "cell_type": "markdown",
   "metadata": {},
   "source": [
    "## Más allá de lo lineal\n",
    "\n",
    "Veremos que este es un caso sencillo, pero en base a cómo varían nuestros parámetros nos enfrentaremos a distintos problemas:\n",
    "\n",
    "* Si la función es no-lineal: `abs`, `x**2`, `x*y`\n",
    "* Si las variables son continuas, discretas o binarias\n",
    "* Si nuestro problema muestra convexidad\n",
    "* Si no conocemos la relación entre las variables pero disponemos de observaciones: datos\n",
    "\n",
    "Veamos un ejemplo de función no lineal:\n",
    "\n",
    "$$\n",
    "\n",
    "f(x) = 3x^4 - 2x + 1\n",
    "\n",
    "$$"
   ]
  },
  {
   "cell_type": "code",
   "execution_count": null,
   "metadata": {},
   "outputs": [],
   "source": [
    "from scipy.optimize import minimize_scalar\n",
    "\n",
    "def objective_function(x):\n",
    "    return 3 * x ** 4 - 2 * x + 1\n",
    "\n",
    "res = minimize_scalar(objective_function)\n",
    "res"
   ]
  },
  {
   "cell_type": "markdown",
   "metadata": {},
   "source": [
    "<img src=\"./img/curve.png\" alt=\"drawing\" width=\"600\"/>"
   ]
  },
  {
   "cell_type": "markdown",
   "metadata": {},
   "source": [
    "Veamos que sucede con una función que supone otros retos.\n",
    "\n",
    "$$\n",
    "\n",
    "f(x) = x^4-x^2\n",
    "\n",
    "$$"
   ]
  },
  {
   "cell_type": "code",
   "execution_count": null,
   "metadata": {},
   "outputs": [],
   "source": [
    "import matplotlib.pyplot as plt\n",
    "\n",
    "def objective_function(x):\n",
    "    return x ** 4 - x ** 2\n",
    "\n",
    "# Valores en el rango de interés\n",
    "x_vals = np.linspace(-1, 1)\n",
    "y_vals = [objective_function(x) for x in x_vals]\n",
    "\n",
    "plt.plot(x_vals, y_vals);"
   ]
  },
  {
   "cell_type": "code",
   "execution_count": null,
   "metadata": {},
   "outputs": [],
   "source": [
    "res = minimize_scalar(objective_function)\n",
    "res"
   ]
  },
  {
   "cell_type": "code",
   "execution_count": null,
   "metadata": {},
   "outputs": [],
   "source": [
    "plt.plot(x_vals, y_vals)\n",
    "plt.plot(res.x, objective_function(res.x), 'ro');"
   ]
  },
  {
   "cell_type": "markdown",
   "metadata": {},
   "source": [
    "## Gradientes\n",
    "\n",
    "Es habitual que emplees el nivel de cambio en cada puno (gradiente) como guía para saber hacia dónde debe variar nuestra estimación inicial. Existen dos grandes grupos de métodos cuando nos enfrentamos a modelos no-lineales.\n",
    "\n",
    "* Basados en gradiente\n",
    "* No basado en gradiente\n",
    "\n",
    "El basado en gradiente nos obliga a disponer o encontrar el modo de emular la derivada de nuestra función objetivo:\n",
    "\n",
    "$$\n",
    "\n",
    "    f^{'}(x) = \\frac{d}{dx}f(x) = 4x^3 - 2x\n",
    "\n",
    "$$"
   ]
  },
  {
   "cell_type": "code",
   "execution_count": null,
   "metadata": {},
   "outputs": [],
   "source": [
    "def dev_objective_function(x):\n",
    "    \"\"\"\n",
    "    Derivada de la función objetivo x^4 - x^2\n",
    "    \"\"\"\n",
    "    return 4*x**3 - 2*x\n",
    "\n",
    "# Valores en el rango de interés\n",
    "x_vals = np.linspace(-1, 1)\n",
    "y_vals = [dev_objective_function(x) for x in x_vals]\n",
    "\n",
    "plt.plot(x_vals, y_vals)\n",
    "plt.plot(x_vals, np.zeros(len(x_vals)), 'r--');"
   ]
  },
  {
   "cell_type": "markdown",
   "metadata": {},
   "source": [
    "El método de descenso del gradiente nos permite obtener una guía de hacia dónde podemos ir variando nuestros valores para así poder obtener un resultado en los óptimos locales o globales que encontremos."
   ]
  },
  {
   "cell_type": "code",
   "execution_count": null,
   "metadata": {},
   "outputs": [],
   "source": [
    "import time\n",
    "from IPython import display\n",
    "%matplotlib inline\n",
    "\n",
    "# Valores en el rango de interés\n",
    "x_vals = np.linspace(-1, 1)\n",
    "y_vals = [objective_function(x) for x in x_vals]\n",
    "\n",
    "def gradient_descent(gradient, inicio, ratio_aprendizaje, n_iter):\n",
    "    optimo = inicio\n",
    "    for _ in range(n_iter):\n",
    "        diff = -ratio_aprendizaje * gradient(optimo)\n",
    "        optimo += diff\n",
    "\n",
    "        plt.plot(x_vals, y_vals, 'b-')\n",
    "        plt.plot(optimo, objective_function(optimo), 'ro')\n",
    "        display.display(plt.gcf())\n",
    "        display.clear_output(wait=True)\n",
    "        time.sleep(1)        \n",
    "    return optimo"
   ]
  },
  {
   "cell_type": "markdown",
   "metadata": {},
   "source": [
    "Necesitamos tres valores que condicionan en gran medida el resultado obtenido:\n",
    "\n",
    "* El punto de inicio: también llamado $x_0$\n",
    "* La tasa de aprendizaje: cuanto nos fiamos de la dirección indicada para la mejora\n",
    "* Un número máximo de iteraciones"
   ]
  },
  {
   "cell_type": "code",
   "execution_count": null,
   "metadata": {},
   "outputs": [],
   "source": [
    "gradient_descent(dev_objective_function, -0.99, 0.01, 30)"
   ]
  },
  {
   "cell_type": "code",
   "execution_count": null,
   "metadata": {},
   "outputs": [],
   "source": [
    "gradient_descent(dev_objective_function, -0.99, 0.5, 20)"
   ]
  },
  {
   "cell_type": "code",
   "execution_count": null,
   "metadata": {},
   "outputs": [],
   "source": [
    "gradient_descent(dev_objective_function, 0.0, 0.1, 20)"
   ]
  },
  {
   "cell_type": "code",
   "execution_count": null,
   "metadata": {},
   "outputs": [],
   "source": [
    "gradient_descent(dev_objective_function, 1.0, 0.1, 20)"
   ]
  },
  {
   "cell_type": "markdown",
   "metadata": {},
   "source": [
    "Existen multitud de métodos pensados para aquellas funciones que nos permitan calcular los gradientes de una función."
   ]
  },
  {
   "cell_type": "markdown",
   "metadata": {},
   "source": [
    "![gif](./img/contours_evaluation_optimizers.gif)"
   ]
  },
  {
   "cell_type": "markdown",
   "metadata": {},
   "source": [
    "Pero esto no siempre será posible. Y debido a ello, existen métodos libres de gradiente e inspirados en procesos naturales que nos ofrecen una vía alternativa.\n",
    "\n",
    "https://en.wikipedia.org/wiki/Derivative-free_optimization\n",
    "\n",
    "Modelos clásicos:\n",
    "\n",
    "* Powell: https://en.wikipedia.org/wiki/Powell%27s_method\n",
    "\n",
    "Basados en técnicas de templado:\n",
    "\n",
    "* Templado simulado: https://en.wikipedia.org/wiki/Simulated_annealing\n",
    "\n",
    "Basados en la evolución natural:\n",
    "\n",
    "* Algoritmos evolutivos: https://en.wikipedia.org/wiki/Evolution_strategy\n",
    "\n",
    "\n",
    "Aquellos que no cuentan con validez matemática se conocen como algoritmos heurísticoss y son en gran medida los empleados en el grueso de actividades relativas al aprendizaje automático o _machine learning_."
   ]
  },
  {
   "cell_type": "markdown",
   "metadata": {},
   "source": [
    "### Método de Powell y COBYLA\n",
    "\n",
    "![powell](./img/powell.gif)\n",
    "\n",
    "Fuente: https://e2eml.school/evopowell.html"
   ]
  },
  {
   "cell_type": "code",
   "execution_count": null,
   "metadata": {},
   "outputs": [],
   "source": [
    "import random\n",
    "from scipy.optimize import minimize\n",
    "\n",
    "x0 = random.random()\n",
    "res = minimize(objective_function, x0=x0, method=\"Powell\")\n",
    "res"
   ]
  },
  {
   "cell_type": "markdown",
   "metadata": {},
   "source": [
    "Referencia: https://handwiki.org/wiki/COBYLA"
   ]
  },
  {
   "cell_type": "code",
   "execution_count": null,
   "metadata": {},
   "outputs": [],
   "source": [
    "res = minimize(objective_function, x0=x0, method=\"COBYLA\")\n",
    "res"
   ]
  },
  {
   "cell_type": "markdown",
   "metadata": {},
   "source": [
    "### Recocido simulado\n",
    "\n",
    "Sigue la visión de temperatura asociada a la función objetivo y aplicando las dinámicas que se siguen en el recocido de metalurgia.\n",
    "\n",
    "![recocido](https://upload.wikimedia.org/wikipedia/commons/d/d5/Hill_Climbing_with_Simulated_Annealing.gif)\n",
    "\n",
    "Referencia: https://webdiis.unizar.es/asignaturas/APD/wp/wp-content/uploads/2013/09/151201simulatedAnnealing2.pdf"
   ]
  },
  {
   "cell_type": "code",
   "execution_count": null,
   "metadata": {},
   "outputs": [],
   "source": [
    "from scipy.optimize import dual_annealing\n",
    "\n",
    "res = dual_annealing(objective_function, bounds=[(-1.0,1.0)])\n",
    "res"
   ]
  },
  {
   "cell_type": "markdown",
   "metadata": {},
   "source": [
    "### Algoritmos evolutivos\n",
    "\n",
    "Si ha funcionado con los seres humanos...\n",
    "\n",
    "![EA](./img/EA.gif)\n",
    "\n",
    "Fuente: https://en.wikipedia.org/wiki/Evolutionary_algorithm"
   ]
  },
  {
   "cell_type": "code",
   "execution_count": null,
   "metadata": {},
   "outputs": [],
   "source": [
    "from scipy.optimize import differential_evolution\n",
    "\n",
    "res = differential_evolution(objective_function, bounds=[(-1.0,1.0)], strategy=\"rand2bin\", maxiter=100)\n",
    "res"
   ]
  },
  {
   "cell_type": "code",
   "execution_count": null,
   "metadata": {},
   "outputs": [],
   "source": [
    "for ind, energy in zip(res.population, res.population_energies):\n",
    "    print(f\"Solution {ind}: {energy} value\")"
   ]
  },
  {
   "cell_type": "markdown",
   "metadata": {},
   "source": [
    "Referencias:\n",
    "\n",
    "* https://realpython.com/linear-programming-python/\n",
    "* https://realpython.com/python-scipy-cluster-optimize/#using-the-optimize-module-in-scipy\n",
    "* https://en.wikipedia.org/wiki/Stochastic_gradient_descent\n",
    "* https://www.ruder.io/optimizing-gradient-descent/\n",
    "* https://openstax.org/books/c%C3%A1lculo-volumen-1/pages/4-introduccion\n",
    "* https://arxiv.org/pdf/1904.11585"
   ]
  }
 ],
 "metadata": {
  "colab": {
   "name": "1-Algebra_Lineal.ipynb",
   "provenance": []
  },
  "kernelspec": {
   "display_name": "Python 3.7.4 64-bit",
   "language": "python",
   "name": "python3"
  },
  "language_info": {
   "codemirror_mode": {
    "name": "ipython",
    "version": 3
   },
   "file_extension": ".py",
   "mimetype": "text/x-python",
   "name": "python",
   "nbconvert_exporter": "python",
   "pygments_lexer": "ipython3",
   "version": "3.11.9+"
  },
  "vscode": {
   "interpreter": {
    "hash": "90139cb9a825bf3d63f6f6704e828dbd1ff7edbd4d0c6e906a71235d6efc74af"
   }
  }
 },
 "nbformat": 4,
 "nbformat_minor": 4
}
