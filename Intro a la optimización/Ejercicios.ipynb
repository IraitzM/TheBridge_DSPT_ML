{
 "cells": [
  {
   "cell_type": "markdown",
   "metadata": {},
   "source": [
    "# Ejercicios\n",
    "\n",
    "Veamos si podemos aplicar de manera sencilla lo aprendido, explorando distintas vías para obtener la solución a los problemas planteados.\n",
    "\n",
    "## Vallado de un jardin\n",
    "\n",
    "Queremos determinar las medidas $x$ e $y$ que crearán un jardín con una superficie máxima utilizando 100 metros de vallado.\n",
    "\n",
    "![jardin](https://openstax.org/apps/archive/20240603.181933/resources/b628896cf794d3d6e3f4672e01630e4a67ab2005)"
   ]
  },
  {
   "cell_type": "code",
   "execution_count": null,
   "metadata": {},
   "outputs": [],
   "source": [
    "# Aquí va vuestro código\n"
   ]
  },
  {
   "cell_type": "markdown",
   "metadata": {},
   "source": [
    "# Maximizando ingresos"
   ]
  },
  {
   "cell_type": "markdown",
   "metadata": {},
   "source": [
    "Los propietarios de una empresa de alquiler de coches han determinado que si cobran a los clientes $p$ euros diarios por el alquiler un coche, donde $50 \\le p \\le 200$, el número de coches $n$ que alquilan por día puede ser modelado por la función lineal $n(p)=1.000−5p$. Es decir, dependiendo de $p$, $n$ tomará distintos valores para el número de coches que se alquilarán. Esto implica que el rendimiento total será de $n(p) \\times p$ para un día dado.\n",
    "\n",
    "Si cobran 50€ por día o menos, alquilarán todos sus automóviles. Si cobran 200€ por día o más, no alquilarán ningún automóvil. Suponiendo que los propietarios planeen cobrar a los clientes entre 50 diarios y 200 diarios por el alquiler de un coche, ¿cuánto deberían cobrar para maximizar sus ingresos?"
   ]
  },
  {
   "cell_type": "markdown",
   "metadata": {},
   "source": [
    "Basada en la descripción del problema, es:\n",
    "\n",
    "𝑅(𝑝)=𝑛(𝑝)×𝑝\n",
    "\n",
    "Donde 𝑛(𝑝) representa el número de coches alquilados por día y es:\n",
    "\n",
    "𝑛(𝑝)=1000−5𝑝\n",
    "\n",
    "Sustituyendo \n",
    "𝑛(𝑝) en la fórmula de ingresos diarios:\n",
    "\n",
    "𝑅(𝑝)=(1000−5𝑝)×𝑝\n",
    "\n",
    "Esto simplifica a:\n",
    "\n",
    "𝑅(𝑝)=1000𝑝−5𝑝2\n",
    "\n",
    "## R(p) = 1000p - 5p^2 "
   ]
  },
  {
   "cell_type": "code",
   "execution_count": 2,
   "metadata": {},
   "outputs": [
    {
     "name": "stdout",
     "output_type": "stream",
     "text": [
      "El precio óptimo para maximizar ingresos es: 100.0 euros por día.\n"
     ]
    }
   ],
   "source": [
    "# Aquí va vuestro código\n",
    "\n",
    "# Definimos la función de ingresos R(p)\n",
    "def ingresos_diarios(p):\n",
    "    return 1000 * p - 5 * p ** 2\n",
    "\n",
    "# Encontramos el valor de p que maximiza los ingresos\n",
    "def maximizar_ingresos():\n",
    "    # Coeficientes de la función cuadrática R(p) = -5p^2 + 1000p\n",
    "    a = -5\n",
    "    b = 1000\n",
    "    \n",
    "    # Calculamos p = -b / (2a)\n",
    "    p_max = -b / (2 * a)\n",
    "    \n",
    "    return p_max\n",
    "\n",
    "# Llamamos a la función para obtener el valor óptimo de p\n",
    "precio_optimo = maximizar_ingresos()\n",
    "\n",
    "# Imprimimos el resultado\n",
    "print(f\"El precio óptimo para maximizar ingresos es: {precio_optimo} euros por día.\")"
   ]
  },
  {
   "cell_type": "code",
   "execution_count": null,
   "metadata": {},
   "outputs": [],
   "source": []
  },
  {
   "cell_type": "code",
   "execution_count": null,
   "metadata": {},
   "outputs": [],
   "source": []
  }
 ],
 "metadata": {
  "kernelspec": {
   "display_name": ".venv",
   "language": "python",
   "name": "python3"
  },
  "language_info": {
   "codemirror_mode": {
    "name": "ipython",
    "version": 3
   },
   "file_extension": ".py",
   "mimetype": "text/x-python",
   "name": "python",
   "nbconvert_exporter": "python",
   "pygments_lexer": "ipython3",
   "version": "3.12.3"
  }
 },
 "nbformat": 4,
 "nbformat_minor": 2
}
