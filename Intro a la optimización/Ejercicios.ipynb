{
 "cells": [
  {
   "cell_type": "markdown",
   "metadata": {},
   "source": [
    "# Ejercicios\n",
    "\n",
    "Veamos si podemos aplicar de manera sencilla lo aprendido, explorando distintas vías para obtener la solución a los problemas planteados.\n",
    "\n",
    "## Vallado de un jardin\n",
    "\n",
    "Queremos determinar las medidas $x$ e $y$ que crearán un jardín con una superficie máxima utilizando 100 metros de vallado.\n",
    "\n",
    "![jardin](https://openstax.org/apps/archive/20240603.181933/resources/b628896cf794d3d6e3f4672e01630e4a67ab2005)"
   ]
  },
  {
   "cell_type": "code",
   "execution_count": null,
   "metadata": {},
   "outputs": [],
   "source": [
    "# Aquí va vuestro código\n"
   ]
  },
  {
   "cell_type": "markdown",
   "metadata": {},
   "source": [
    "# Maximizando ingresos"
   ]
  },
  {
   "cell_type": "markdown",
   "metadata": {},
   "source": [
    "Los propietarios de una empresa de alquiler de coches han determinado que si cobran a los clientes $p$ euros diarios por el alquiler un coche, donde $50 \\le p \\le 200$, el número de coches $n$ que alquilan por día puede ser modelado por la función lineal $n(p)=1.000−5p$. Es decir, dependiendo de $p$, $n$ tomará distintos valores para el número de coches que se alquilarán. Esto implica que el rendimiento total será de $n(p) \\times p$ para un día dado.\n",
    "\n",
    "Si cobran 50€ por día o menos, alquilarán todos sus automóviles. Si cobran 200€ por día o más, no alquilarán ningún automóvil. Suponiendo que los propietarios planeen cobrar a los clientes entre 50 diarios y 200 diarios por el alquiler de un coche, ¿cuánto deberían cobrar para maximizar sus ingresos?"
   ]
  },
  {
   "cell_type": "code",
   "execution_count": 1,
   "metadata": {},
   "outputs": [
    {
     "ename": "SyntaxError",
     "evalue": "invalid syntax (1010047739.py, line 2)",
     "output_type": "error",
     "traceback": [
      "\u001b[1;36m  Cell \u001b[1;32mIn[1], line 2\u001b[1;36m\u001b[0m\n\u001b[1;33m    pip freeze\u001b[0m\n\u001b[1;37m        ^\u001b[0m\n\u001b[1;31mSyntaxError\u001b[0m\u001b[1;31m:\u001b[0m invalid syntax\n"
     ]
    }
   ],
   "source": [
    "# Aquí va vuestro código\n",
    "pip freeze"
   ]
  },
  {
   "cell_type": "code",
   "execution_count": 2,
   "metadata": {},
   "outputs": [
    {
     "name": "stdout",
     "output_type": "stream",
     "text": [
      "annotated-types==0.6.0\n",
      "asttokens==2.4.1\n",
      "blis==0.7.11\n",
      "catalogue==2.0.10\n",
      "certifi==2024.2.2\n",
      "charset-normalizer==3.3.2\n",
      "click==8.1.7\n",
      "cloudpathlib==0.16.0\n",
      "colorama==0.4.6\n",
      "comm==0.2.2\n",
      "confection==0.1.4\n",
      "contourpy==1.2.1\n",
      "cycler==0.12.1\n",
      "cymem==2.0.8\n",
      "debugpy==1.8.2\n",
      "decorator==5.1.1\n",
      "executing==2.0.1\n",
      "fonttools==4.51.0\n",
      "idna==3.7\n",
      "ipykernel==6.29.5\n",
      "ipython==8.26.0\n",
      "jedi==0.19.1\n",
      "Jinja2==3.1.4\n",
      "jupyter_client==8.6.2\n",
      "jupyter_core==5.7.2\n",
      "kiwisolver==1.4.5\n",
      "langcodes==3.4.0\n",
      "language_data==1.2.0\n",
      "marisa-trie==1.1.1\n",
      "MarkupSafe==2.1.5\n",
      "matplotlib==3.8.4\n",
      "matplotlib-inline==0.1.7\n",
      "murmurhash==1.0.10\n",
      "nest-asyncio==1.6.0\n",
      "numpy==1.26.4\n",
      "packaging==24.0\n",
      "pandas==2.2.2\n",
      "parso==0.8.4\n",
      "pillow==10.3.0\n",
      "platformdirs==4.2.2\n",
      "preshed==3.0.9\n",
      "prompt_toolkit==3.0.47\n",
      "psutil==6.0.0\n",
      "pure-eval==0.2.2\n",
      "pydantic==2.7.1\n",
      "pydantic_core==2.18.2\n",
      "Pygments==2.18.0\n",
      "pyparsing==3.1.2\n",
      "python-dateutil==2.9.0.post0\n",
      "pytz==2024.1\n",
      "pywin32==306\n",
      "pyzmq==26.0.3\n",
      "requests==2.32.0\n",
      "scipy==1.13.0\n",
      "seaborn==0.13.2\n",
      "setuptools==69.5.1\n",
      "six==1.16.0\n",
      "smart-open==6.4.0\n",
      "spacy==3.7.4\n",
      "spacy-legacy==3.0.12\n",
      "spacy-loggers==1.0.5\n",
      "srsly==2.4.8\n",
      "stack-data==0.6.3\n",
      "thinc==8.2.3\n",
      "tornado==6.4.1\n",
      "tqdm==4.66.4\n",
      "traitlets==5.14.3\n",
      "typer==0.9.4\n",
      "typing_extensions==4.11.0\n",
      "tzdata==2024.1\n",
      "urllib3==2.2.1\n",
      "wasabi==1.1.2\n",
      "wcwidth==0.2.13\n",
      "weasel==0.3.4\n",
      "wheel==0.43.0\n",
      "\n"
     ]
    }
   ],
   "source": [
    "import subprocess\n",
    "\n",
    "result = subprocess.run(['pip', 'freeze'], capture_output=True, text=True)\n",
    "print(result.stdout)"
   ]
  },
  {
   "cell_type": "code",
   "execution_count": 3,
   "metadata": {},
   "outputs": [
    {
     "name": "stdout",
     "output_type": "stream",
     "text": [
      "Note: you may need to restart the kernel to use updated packages.\n"
     ]
    },
    {
     "name": "stderr",
     "output_type": "stream",
     "text": [
      "WARNING: Package(s) not found: Math\n"
     ]
    }
   ],
   "source": [
    "pip show Math"
   ]
  },
  {
   "cell_type": "code",
   "execution_count": null,
   "metadata": {},
   "outputs": [],
   "source": []
  }
 ],
 "metadata": {
  "kernelspec": {
   "display_name": ".venv",
   "language": "python",
   "name": "python3"
  },
  "language_info": {
   "codemirror_mode": {
    "name": "ipython",
    "version": 3
   },
   "file_extension": ".py",
   "mimetype": "text/x-python",
   "name": "python",
   "nbconvert_exporter": "python",
   "pygments_lexer": "ipython3",
   "version": "3.12.3"
  }
 },
 "nbformat": 4,
 "nbformat_minor": 2
}
