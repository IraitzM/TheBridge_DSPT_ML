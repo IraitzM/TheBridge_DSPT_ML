{
 "cells": [
  {
   "attachments": {},
   "cell_type": "markdown",
   "metadata": {},
   "source": [
    "# Ejercicios ensembling\n",
    "En este ejercicio vas a realizar prediciones sobre un dataset de ciudadanos indios diabéticos. Se trata de un problema de clasificación en el que intentaremos predecir 1 (diabético) 0 (no diabético)."
   ]
  },
  {
   "attachments": {},
   "cell_type": "markdown",
   "metadata": {},
   "source": [
    "### Lee los datos de [esta direccion](https://raw.githubusercontent.com/jbrownlee/Datasets/master/pima-indians-diabetes.data.csv)\n",
    "Los nombres de columnas son:\n",
    "```Python\n",
    "names = ['preg', 'plas', 'pres', 'skin', 'test', 'mass', 'pedi', 'age', 'class']\n",
    "```"
   ]
  },
  {
   "attachments": {},
   "cell_type": "markdown",
   "metadata": {},
   "source": [
    "### Bagging\n",
    "Para este apartado tendrás que crear un ensemble utilizando la técnica de bagging ([BaggingClassifier](https://scikit-learn.org/stable/modules/generated/sklearn.ensemble.BaggingClassifier.html)), mediante la cual combinarás 100 [DecisionTreeClassifier](https://scikit-learn.org/stable/modules/generated/sklearn.tree.DecisionTreeClassifier.html). Recuerda utilizar también [cross validation](https://scikit-learn.org/stable/modules/generated/sklearn.model_selection.KFold.html) con 10 kfolds.\n",
    "\n",
    "**Para este apartado y siguientes, no hace falta que dividas en train/test**, por hacerlo más sencillo. Simplemente divide tus datos en features y target.\n",
    "\n",
    "Establece una semilla"
   ]
  },
  {
   "attachments": {},
   "cell_type": "markdown",
   "metadata": {},
   "source": [
    "### Random Forest\n",
    "En este caso entrena un [RandomForestClassifier](https://scikit-learn.org/stable/modules/generated/sklearn.ensemble.RandomForestClassifier.html) con 100 árboles y un `max_features` de 3. También con validación cruzada"
   ]
  },
  {
   "attachments": {},
   "cell_type": "markdown",
   "metadata": {},
   "source": [
    "### AdaBoost\n",
    "Implementa un [AdaBoostClassifier](https://scikit-learn.org/stable/modules/generated/sklearn.ensemble.AdaBoostClassifier.html) con 30 árboles."
   ]
  },
  {
   "attachments": {},
   "cell_type": "markdown",
   "metadata": {},
   "source": [
    "### GradientBoosting\n",
    "Implementa un [GradientBoostingClassifier](https://scikit-learn.org/stable/modules/generated/sklearn.ensemble.GradientBoostingClassifier.html) con 100 estimadores"
   ]
  },
  {
   "attachments": {},
   "cell_type": "markdown",
   "metadata": {},
   "source": [
    "### XGBoost\n",
    "Para este apartado utiliza un [XGBoostClassifier](https://docs.getml.com/latest/api/getml.predictors.XGBoostClassifier.html) con 100 estimadores. XGBoost no forma parte de la suite de modelos de sklearn, por lo que tendrás que instalarlo con pip install"
   ]
  },
  {
   "attachments": {},
   "cell_type": "markdown",
   "metadata": {},
   "source": [
    "### Primeros resultados\n",
    "Crea un dataframe con los resultados y sus algoritmos, ordenándolos de mayor a menor "
   ]
  },
  {
   "cell_type": "code",
   "execution_count": 16,
   "metadata": {},
   "outputs": [
    {
     "name": "stdout",
     "output_type": "stream",
     "text": [
      "   preg  plas  pres  skin  test  mass   pedi  age  class\n",
      "0     6   148    72    35     0  33.6  0.627   50      1\n",
      "1     1    85    66    29     0  26.6  0.351   31      0\n",
      "2     8   183    64     0     0  23.3  0.672   32      1\n",
      "3     1    89    66    23    94  28.1  0.167   21      0\n",
      "4     0   137    40    35   168  43.1  2.288   33      1\n"
     ]
    }
   ],
   "source": [
    "import pandas as pd\n",
    "\n",
    "# Cargar los datos\n",
    "url = \"https://raw.githubusercontent.com/jbrownlee/Datasets/master/pima-indians-diabetes.data.csv\" \n",
    "\n",
    "# Leer el archivo CSV desde la URL \n",
    "data = pd.read_csv(url, header=None)\n",
    "\n",
    "# Asignar nombres de columnas\n",
    "data.columns = ['preg', 'plas', 'pres', 'skin', 'test', 'mass', 'pedi', 'age', 'class'] \n",
    "\n",
    "# Guardar el archivo CSV localmente\n",
    "data.to_csv(\"pima-indians-diabetes.csv\", index=False, header=False)\n",
    "\n",
    "# Mostrar las primeras filas del dataframe\n",
    "print(data.head()) "
   ]
  },
  {
   "cell_type": "code",
   "execution_count": 17,
   "metadata": {},
   "outputs": [],
   "source": [
    "import pandas as pd \n",
    "\n",
    "# Dividir en características y objetivo\n",
    "X = data.drop('class', axis=1)\n",
    "y = data['class']\n",
    "\n",
    "# Semilla para reproducibilidad\n",
    "random_state = 42 "
   ]
  },
  {
   "cell_type": "code",
   "execution_count": 18,
   "metadata": {},
   "outputs": [
    {
     "name": "stdout",
     "output_type": "stream",
     "text": [
      "Bagging Mean Accuracy: 0.7708133971291866\n"
     ]
    }
   ],
   "source": [
    "from sklearn.ensemble import BaggingClassifier\n",
    "from sklearn.tree import DecisionTreeClassifier\n",
    "from sklearn.model_selection import cross_val_score\n",
    "\n",
    "# Crear y entrenar el modelo Bagging\n",
    "bagging_model = BaggingClassifier(estimator=DecisionTreeClassifier(random_state=random_state),\n",
    "                                  n_estimators=100, random_state=random_state)\n",
    "\n",
    "# Validación cruzada\n",
    "cv_scores_bagging = cross_val_score(bagging_model, X, y, cv=10, scoring='accuracy')\n",
    "\n",
    "# Resultados\n",
    "bagging_mean_accuracy = cv_scores_bagging.mean()\n",
    "print(f'Bagging Mean Accuracy: {bagging_mean_accuracy}') "
   ]
  },
  {
   "cell_type": "code",
   "execution_count": 19,
   "metadata": {},
   "outputs": [
    {
     "name": "stdout",
     "output_type": "stream",
     "text": [
      "Random Forest Mean Accuracy: 0.768198906356801\n"
     ]
    }
   ],
   "source": [
    "from sklearn.ensemble import RandomForestClassifier\n",
    "\n",
    "# Crear y entrenar el modelo Random Forest\n",
    "rf_model = RandomForestClassifier(n_estimators=100, max_features=3, random_state=random_state)\n",
    "\n",
    "# Validación cruzada\n",
    "cv_scores_rf = cross_val_score(rf_model, X, y, cv=10, scoring='accuracy')\n",
    "\n",
    "# Resultados\n",
    "rf_mean_accuracy = cv_scores_rf.mean()\n",
    "print(f'Random Forest Mean Accuracy: {rf_mean_accuracy}') "
   ]
  },
  {
   "cell_type": "code",
   "execution_count": 30,
   "metadata": {},
   "outputs": [
    {
     "name": "stdout",
     "output_type": "stream",
     "text": [
      "AdaBoost Mean Accuracy: 0.6990772385509229\n"
     ]
    }
   ],
   "source": [
    "from sklearn.ensemble import AdaBoostClassifier\n",
    "\n",
    "# Crear y entrenar el modelo AdaBoost\n",
    "ada_model = AdaBoostClassifier(estimator=DecisionTreeClassifier(random_state=random_state), \n",
    "                               n_estimators=30, random_state=random_state, algorithm='SAMME')\n",
    "\n",
    "# Validación cruzada\n",
    "cv_scores_ada = cross_val_score(ada_model, X, y, cv=10, scoring='accuracy')\n",
    "\n",
    "# Resultados\n",
    "ada_mean_accuracy = cv_scores_ada.mean()\n",
    "print(f'AdaBoost Mean Accuracy: {ada_mean_accuracy}') "
   ]
  },
  {
   "cell_type": "code",
   "execution_count": 21,
   "metadata": {},
   "outputs": [
    {
     "name": "stdout",
     "output_type": "stream",
     "text": [
      "Gradient Boosting Mean Accuracy: 0.7604066985645933\n"
     ]
    }
   ],
   "source": [
    "from sklearn.ensemble import GradientBoostingClassifier\n",
    "\n",
    "# Crear y entrenar el modelo Gradient Boosting\n",
    "gb_model = GradientBoostingClassifier(n_estimators=100, random_state=random_state)\n",
    "\n",
    "# Validación cruzada\n",
    "cv_scores_gb = cross_val_score(gb_model, X, y, cv=10, scoring='accuracy')\n",
    "\n",
    "# Resultados\n",
    "gb_mean_accuracy = cv_scores_gb.mean()\n",
    "print(f'Gradient Boosting Mean Accuracy: {gb_mean_accuracy}') "
   ]
  },
  {
   "cell_type": "code",
   "execution_count": 11,
   "metadata": {},
   "outputs": [
    {
     "name": "stdout",
     "output_type": "stream",
     "text": [
      "Collecting xgboost\n",
      "  Downloading xgboost-2.1.0-py3-none-win_amd64.whl.metadata (2.1 kB)\n",
      "Requirement already satisfied: numpy in c:\\users\\rodri\\appdata\\local\\programs\\python\\python312\\lib\\site-packages (from xgboost) (1.26.4)\n",
      "Requirement already satisfied: scipy in c:\\users\\rodri\\appdata\\local\\programs\\python\\python312\\lib\\site-packages (from xgboost) (1.13.0)\n",
      "Downloading xgboost-2.1.0-py3-none-win_amd64.whl (124.9 MB)\n",
      "   ---------------------------------------- 0.0/124.9 MB ? eta -:--:--\n",
      "   ---------------------------------------- 0.0/124.9 MB ? eta -:--:--\n",
      "   ---------------------------------------- 0.2/124.9 MB 3.6 MB/s eta 0:00:35\n",
      "   ---------------------------------------- 0.9/124.9 MB 6.8 MB/s eta 0:00:19\n",
      "   ---------------------------------------- 1.5/124.9 MB 8.6 MB/s eta 0:00:15\n",
      "    --------------------------------------- 2.1/124.9 MB 9.5 MB/s eta 0:00:13\n",
      "    --------------------------------------- 2.7/124.9 MB 10.2 MB/s eta 0:00:12\n",
      "   - -------------------------------------- 3.2/124.9 MB 10.2 MB/s eta 0:00:12\n",
      "   - -------------------------------------- 3.8/124.9 MB 10.6 MB/s eta 0:00:12\n",
      "   - -------------------------------------- 4.4/124.9 MB 10.8 MB/s eta 0:00:12\n",
      "   - -------------------------------------- 5.1/124.9 MB 11.1 MB/s eta 0:00:11\n",
      "   - -------------------------------------- 5.7/124.9 MB 11.0 MB/s eta 0:00:11\n",
      "   -- ------------------------------------- 6.3/124.9 MB 11.2 MB/s eta 0:00:11\n",
      "   -- ------------------------------------- 6.7/124.9 MB 11.3 MB/s eta 0:00:11\n",
      "   -- ------------------------------------- 7.3/124.9 MB 11.4 MB/s eta 0:00:11\n",
      "   -- ------------------------------------- 8.0/124.9 MB 11.6 MB/s eta 0:00:11\n",
      "   -- ------------------------------------- 8.5/124.9 MB 11.5 MB/s eta 0:00:11\n",
      "   -- ------------------------------------- 9.0/124.9 MB 11.8 MB/s eta 0:00:10\n",
      "   --- ------------------------------------ 9.5/124.9 MB 11.6 MB/s eta 0:00:10\n",
      "   --- ------------------------------------ 9.8/124.9 MB 11.6 MB/s eta 0:00:10\n",
      "   --- ------------------------------------ 10.5/124.9 MB 12.6 MB/s eta 0:00:10\n",
      "   --- ------------------------------------ 11.1/124.9 MB 12.6 MB/s eta 0:00:10\n",
      "   --- ------------------------------------ 11.4/124.9 MB 12.1 MB/s eta 0:00:10\n",
      "   --- ------------------------------------ 12.0/124.9 MB 12.4 MB/s eta 0:00:10\n",
      "   ---- ----------------------------------- 12.7/124.9 MB 12.4 MB/s eta 0:00:10\n",
      "   ---- ----------------------------------- 13.3/124.9 MB 12.1 MB/s eta 0:00:10\n",
      "   ---- ----------------------------------- 13.9/124.9 MB 12.1 MB/s eta 0:00:10\n",
      "   ---- ----------------------------------- 14.6/124.9 MB 12.1 MB/s eta 0:00:10\n",
      "   ---- ----------------------------------- 15.2/124.9 MB 12.1 MB/s eta 0:00:10\n",
      "   ----- ---------------------------------- 15.8/124.9 MB 12.4 MB/s eta 0:00:09\n",
      "   ----- ---------------------------------- 16.4/124.9 MB 12.1 MB/s eta 0:00:09\n",
      "   ----- ---------------------------------- 17.1/124.9 MB 12.3 MB/s eta 0:00:09\n",
      "   ----- ---------------------------------- 17.5/124.9 MB 12.1 MB/s eta 0:00:09\n",
      "   ----- ---------------------------------- 18.1/124.9 MB 12.1 MB/s eta 0:00:09\n",
      "   ------ --------------------------------- 18.8/124.9 MB 12.1 MB/s eta 0:00:09\n",
      "   ------ --------------------------------- 19.4/124.9 MB 12.1 MB/s eta 0:00:09\n",
      "   ------ --------------------------------- 20.0/124.9 MB 12.4 MB/s eta 0:00:09\n",
      "   ------ --------------------------------- 20.0/124.9 MB 12.4 MB/s eta 0:00:09\n",
      "   ------ --------------------------------- 21.1/124.9 MB 11.9 MB/s eta 0:00:09\n",
      "   ------ --------------------------------- 21.6/124.9 MB 12.3 MB/s eta 0:00:09\n",
      "   ------- -------------------------------- 21.9/124.9 MB 12.6 MB/s eta 0:00:09\n",
      "   ------- -------------------------------- 22.7/124.9 MB 12.6 MB/s eta 0:00:09\n",
      "   ------- -------------------------------- 23.2/124.9 MB 12.3 MB/s eta 0:00:09\n",
      "   ------- -------------------------------- 23.9/124.9 MB 12.6 MB/s eta 0:00:09\n",
      "   ------- -------------------------------- 24.5/124.9 MB 12.4 MB/s eta 0:00:09\n",
      "   -------- ------------------------------- 25.1/124.9 MB 12.4 MB/s eta 0:00:09\n",
      "   -------- ------------------------------- 25.8/124.9 MB 12.4 MB/s eta 0:00:09\n",
      "   -------- ------------------------------- 26.4/124.9 MB 12.3 MB/s eta 0:00:08\n",
      "   -------- ------------------------------- 27.0/124.9 MB 12.6 MB/s eta 0:00:08\n",
      "   -------- ------------------------------- 27.6/124.9 MB 12.6 MB/s eta 0:00:08\n",
      "   --------- ------------------------------ 28.3/124.9 MB 12.6 MB/s eta 0:00:08\n",
      "   --------- ------------------------------ 28.9/124.9 MB 12.6 MB/s eta 0:00:08\n",
      "   --------- ------------------------------ 29.5/124.9 MB 12.6 MB/s eta 0:00:08\n",
      "   --------- ------------------------------ 30.0/124.9 MB 12.6 MB/s eta 0:00:08\n",
      "   --------- ------------------------------ 30.6/124.9 MB 13.4 MB/s eta 0:00:08\n",
      "   --------- ------------------------------ 31.2/124.9 MB 12.4 MB/s eta 0:00:08\n",
      "   ---------- ----------------------------- 31.8/124.9 MB 12.6 MB/s eta 0:00:08\n",
      "   ---------- ----------------------------- 32.5/124.9 MB 13.1 MB/s eta 0:00:08\n",
      "   ---------- ----------------------------- 33.1/124.9 MB 12.6 MB/s eta 0:00:08\n",
      "   ---------- ----------------------------- 33.7/124.9 MB 12.6 MB/s eta 0:00:08\n",
      "   ----------- ---------------------------- 34.4/124.9 MB 12.6 MB/s eta 0:00:08\n",
      "   ----------- ---------------------------- 34.8/124.9 MB 12.6 MB/s eta 0:00:08\n",
      "   ----------- ---------------------------- 35.4/124.9 MB 12.8 MB/s eta 0:00:07\n",
      "   ----------- ---------------------------- 36.0/124.9 MB 12.6 MB/s eta 0:00:08\n",
      "   ----------- ---------------------------- 36.6/124.9 MB 12.8 MB/s eta 0:00:07\n",
      "   ----------- ---------------------------- 37.3/124.9 MB 12.6 MB/s eta 0:00:07\n",
      "   ------------ --------------------------- 37.7/124.9 MB 12.6 MB/s eta 0:00:07\n",
      "   ------------ --------------------------- 38.3/124.9 MB 12.6 MB/s eta 0:00:07\n",
      "   ------------ --------------------------- 39.0/124.9 MB 12.6 MB/s eta 0:00:07\n",
      "   ------------ --------------------------- 39.6/124.9 MB 12.6 MB/s eta 0:00:07\n",
      "   ------------ --------------------------- 40.2/124.9 MB 12.6 MB/s eta 0:00:07\n",
      "   ------------- -------------------------- 40.8/124.9 MB 12.6 MB/s eta 0:00:07\n",
      "   ------------- -------------------------- 41.5/124.9 MB 12.6 MB/s eta 0:00:07\n",
      "   ------------- -------------------------- 42.1/124.9 MB 12.6 MB/s eta 0:00:07\n",
      "   ------------- -------------------------- 42.7/124.9 MB 12.6 MB/s eta 0:00:07\n",
      "   ------------- -------------------------- 43.2/124.9 MB 12.6 MB/s eta 0:00:07\n",
      "   -------------- ------------------------- 43.8/124.9 MB 12.6 MB/s eta 0:00:07\n",
      "   -------------- ------------------------- 44.2/124.9 MB 12.6 MB/s eta 0:00:07\n",
      "   -------------- ------------------------- 44.8/124.9 MB 12.6 MB/s eta 0:00:07\n",
      "   -------------- ------------------------- 45.3/124.9 MB 12.6 MB/s eta 0:00:07\n",
      "   -------------- ------------------------- 45.8/124.9 MB 12.6 MB/s eta 0:00:07\n",
      "   -------------- ------------------------- 46.3/124.9 MB 12.8 MB/s eta 0:00:07\n",
      "   -------------- ------------------------- 46.8/124.9 MB 12.6 MB/s eta 0:00:07\n",
      "   --------------- ------------------------ 47.3/124.9 MB 12.6 MB/s eta 0:00:07\n",
      "   --------------- ------------------------ 48.0/124.9 MB 12.6 MB/s eta 0:00:07\n",
      "   --------------- ------------------------ 48.6/124.9 MB 12.6 MB/s eta 0:00:07\n",
      "   --------------- ------------------------ 49.2/124.9 MB 12.6 MB/s eta 0:00:07\n",
      "   --------------- ------------------------ 49.8/124.9 MB 12.3 MB/s eta 0:00:07\n",
      "   ---------------- ----------------------- 50.3/124.9 MB 12.6 MB/s eta 0:00:06\n",
      "   ---------------- ----------------------- 50.9/124.9 MB 12.6 MB/s eta 0:00:06\n",
      "   ---------------- ----------------------- 51.3/124.9 MB 12.6 MB/s eta 0:00:06\n",
      "   ---------------- ----------------------- 51.9/124.9 MB 12.6 MB/s eta 0:00:06\n",
      "   ---------------- ----------------------- 52.6/124.9 MB 12.4 MB/s eta 0:00:06\n",
      "   ----------------- ---------------------- 53.2/124.9 MB 12.8 MB/s eta 0:00:06\n",
      "   ----------------- ---------------------- 53.8/124.9 MB 12.9 MB/s eta 0:00:06\n",
      "   ----------------- ---------------------- 54.4/124.9 MB 12.6 MB/s eta 0:00:06\n",
      "   ----------------- ---------------------- 54.9/124.9 MB 12.4 MB/s eta 0:00:06\n",
      "   ----------------- ---------------------- 55.5/124.9 MB 12.6 MB/s eta 0:00:06\n",
      "   ----------------- ---------------------- 56.1/124.9 MB 12.6 MB/s eta 0:00:06\n",
      "   ------------------ --------------------- 56.7/124.9 MB 12.6 MB/s eta 0:00:06\n",
      "   ------------------ --------------------- 57.4/124.9 MB 12.6 MB/s eta 0:00:06\n",
      "   ------------------ --------------------- 58.0/124.9 MB 12.6 MB/s eta 0:00:06\n",
      "   ------------------ --------------------- 58.6/124.9 MB 12.4 MB/s eta 0:00:06\n",
      "   ------------------ --------------------- 59.2/124.9 MB 12.8 MB/s eta 0:00:06\n",
      "   ------------------- -------------------- 59.9/124.9 MB 12.6 MB/s eta 0:00:06\n",
      "   ------------------- -------------------- 60.4/124.9 MB 12.6 MB/s eta 0:00:06\n",
      "   ------------------- -------------------- 60.9/124.9 MB 12.6 MB/s eta 0:00:06\n",
      "   ------------------- -------------------- 61.5/124.9 MB 12.6 MB/s eta 0:00:06\n",
      "   ------------------- -------------------- 62.2/124.9 MB 12.8 MB/s eta 0:00:05\n",
      "   -------------------- ------------------- 62.8/124.9 MB 12.6 MB/s eta 0:00:05\n",
      "   -------------------- ------------------- 63.4/124.9 MB 12.6 MB/s eta 0:00:05\n",
      "   -------------------- ------------------- 64.0/124.9 MB 12.6 MB/s eta 0:00:05\n",
      "   -------------------- ------------------- 64.7/124.9 MB 12.4 MB/s eta 0:00:05\n",
      "   -------------------- ------------------- 65.3/124.9 MB 12.6 MB/s eta 0:00:05\n",
      "   --------------------- ------------------ 65.9/124.9 MB 12.6 MB/s eta 0:00:05\n",
      "   --------------------- ------------------ 66.6/124.9 MB 12.6 MB/s eta 0:00:05\n",
      "   --------------------- ------------------ 67.2/124.9 MB 12.6 MB/s eta 0:00:05\n",
      "   --------------------- ------------------ 67.8/124.9 MB 12.6 MB/s eta 0:00:05\n",
      "   --------------------- ------------------ 68.3/124.9 MB 12.4 MB/s eta 0:00:05\n",
      "   ---------------------- ----------------- 68.9/124.9 MB 12.6 MB/s eta 0:00:05\n",
      "   ---------------------- ----------------- 69.5/124.9 MB 12.6 MB/s eta 0:00:05\n",
      "   ---------------------- ----------------- 70.1/124.9 MB 12.6 MB/s eta 0:00:05\n",
      "   ---------------------- ----------------- 70.6/124.9 MB 12.4 MB/s eta 0:00:05\n",
      "   ---------------------- ----------------- 71.2/124.9 MB 12.8 MB/s eta 0:00:05\n",
      "   ---------------------- ----------------- 71.8/124.9 MB 12.6 MB/s eta 0:00:05\n",
      "   ----------------------- ---------------- 72.2/124.9 MB 12.6 MB/s eta 0:00:05\n",
      "   ----------------------- ---------------- 72.9/124.9 MB 12.6 MB/s eta 0:00:05\n",
      "   ----------------------- ---------------- 73.5/124.9 MB 12.6 MB/s eta 0:00:05\n",
      "   ----------------------- ---------------- 74.1/124.9 MB 12.6 MB/s eta 0:00:05\n",
      "   ----------------------- ---------------- 74.5/124.9 MB 12.6 MB/s eta 0:00:04\n",
      "   ------------------------ --------------- 75.1/124.9 MB 12.4 MB/s eta 0:00:05\n",
      "   ------------------------ --------------- 75.6/124.9 MB 12.6 MB/s eta 0:00:04\n",
      "   ------------------------ --------------- 76.2/124.9 MB 12.6 MB/s eta 0:00:04\n",
      "   ------------------------ --------------- 76.8/124.9 MB 12.6 MB/s eta 0:00:04\n",
      "   ------------------------ --------------- 77.4/124.9 MB 12.6 MB/s eta 0:00:04\n",
      "   ------------------------- -------------- 78.1/124.9 MB 12.8 MB/s eta 0:00:04\n",
      "   ------------------------- -------------- 78.7/124.9 MB 12.6 MB/s eta 0:00:04\n",
      "   ------------------------- -------------- 79.3/124.9 MB 12.6 MB/s eta 0:00:04\n",
      "   ------------------------- -------------- 79.7/124.9 MB 12.6 MB/s eta 0:00:04\n",
      "   ------------------------- -------------- 80.4/124.9 MB 12.6 MB/s eta 0:00:04\n",
      "   ------------------------- -------------- 81.0/124.9 MB 12.6 MB/s eta 0:00:04\n",
      "   -------------------------- ------------- 81.6/124.9 MB 12.6 MB/s eta 0:00:04\n",
      "   -------------------------- ------------- 82.3/124.9 MB 12.6 MB/s eta 0:00:04\n",
      "   -------------------------- ------------- 82.9/124.9 MB 12.6 MB/s eta 0:00:04\n",
      "   -------------------------- ------------- 83.5/124.9 MB 12.6 MB/s eta 0:00:04\n",
      "   -------------------------- ------------- 84.1/124.9 MB 12.6 MB/s eta 0:00:04\n",
      "   --------------------------- ------------ 84.8/124.9 MB 12.6 MB/s eta 0:00:04\n",
      "   --------------------------- ------------ 85.4/124.9 MB 12.6 MB/s eta 0:00:04\n",
      "   --------------------------- ------------ 86.0/124.9 MB 12.6 MB/s eta 0:00:04\n",
      "   --------------------------- ------------ 86.6/124.9 MB 12.6 MB/s eta 0:00:04\n",
      "   --------------------------- ------------ 87.1/124.9 MB 12.4 MB/s eta 0:00:04\n",
      "   ---------------------------- ----------- 87.7/124.9 MB 12.4 MB/s eta 0:00:04\n",
      "   ---------------------------- ----------- 88.3/124.9 MB 12.4 MB/s eta 0:00:03\n",
      "   ---------------------------- ----------- 88.9/124.9 MB 12.6 MB/s eta 0:00:03\n",
      "   ---------------------------- ----------- 89.5/124.9 MB 12.6 MB/s eta 0:00:03\n",
      "   ---------------------------- ----------- 90.0/124.9 MB 12.6 MB/s eta 0:00:03\n",
      "   ----------------------------- ---------- 90.6/124.9 MB 12.6 MB/s eta 0:00:03\n",
      "   ----------------------------- ---------- 91.1/124.9 MB 12.6 MB/s eta 0:00:03\n",
      "   ----------------------------- ---------- 91.7/124.9 MB 12.6 MB/s eta 0:00:03\n",
      "   ----------------------------- ---------- 92.3/124.9 MB 12.6 MB/s eta 0:00:03\n",
      "   ----------------------------- ---------- 92.9/124.9 MB 12.6 MB/s eta 0:00:03\n",
      "   ----------------------------- ---------- 93.4/124.9 MB 12.6 MB/s eta 0:00:03\n",
      "   ------------------------------ --------- 93.9/124.9 MB 12.6 MB/s eta 0:00:03\n",
      "   ------------------------------ --------- 94.6/124.9 MB 12.6 MB/s eta 0:00:03\n",
      "   ------------------------------ --------- 95.0/124.9 MB 12.6 MB/s eta 0:00:03\n",
      "   ------------------------------ --------- 95.6/124.9 MB 12.6 MB/s eta 0:00:03\n",
      "   ------------------------------ --------- 96.2/124.9 MB 12.6 MB/s eta 0:00:03\n",
      "   ------------------------------- -------- 96.9/124.9 MB 12.6 MB/s eta 0:00:03\n",
      "   ------------------------------- -------- 97.3/124.9 MB 12.6 MB/s eta 0:00:03\n",
      "   ------------------------------- -------- 97.9/124.9 MB 12.6 MB/s eta 0:00:03\n",
      "   ------------------------------- -------- 98.6/124.9 MB 12.6 MB/s eta 0:00:03\n",
      "   ------------------------------- -------- 99.2/124.9 MB 12.6 MB/s eta 0:00:03\n",
      "   ------------------------------- -------- 99.7/124.9 MB 12.4 MB/s eta 0:00:03\n",
      "   ------------------------------- ------- 100.2/124.9 MB 12.8 MB/s eta 0:00:02\n",
      "   ------------------------------- ------- 100.9/124.9 MB 12.6 MB/s eta 0:00:02\n",
      "   ------------------------------- ------- 101.5/124.9 MB 12.6 MB/s eta 0:00:02\n",
      "   ------------------------------- ------- 102.1/124.9 MB 12.6 MB/s eta 0:00:02\n",
      "   -------------------------------- ------ 102.7/124.9 MB 12.8 MB/s eta 0:00:02\n",
      "   -------------------------------- ------ 103.2/124.9 MB 12.6 MB/s eta 0:00:02\n",
      "   -------------------------------- ------ 103.8/124.9 MB 12.4 MB/s eta 0:00:02\n",
      "   -------------------------------- ------ 104.4/124.9 MB 12.8 MB/s eta 0:00:02\n",
      "   -------------------------------- ------ 105.0/124.9 MB 12.6 MB/s eta 0:00:02\n",
      "   -------------------------------- ------ 105.7/124.9 MB 12.6 MB/s eta 0:00:02\n",
      "   --------------------------------- ----- 106.3/124.9 MB 12.8 MB/s eta 0:00:02\n",
      "   --------------------------------- ----- 106.9/124.9 MB 12.6 MB/s eta 0:00:02\n",
      "   --------------------------------- ----- 107.4/124.9 MB 12.6 MB/s eta 0:00:02\n",
      "   --------------------------------- ----- 108.0/124.9 MB 12.6 MB/s eta 0:00:02\n",
      "   --------------------------------- ----- 108.6/124.9 MB 12.6 MB/s eta 0:00:02\n",
      "   ---------------------------------- ---- 109.2/124.9 MB 12.6 MB/s eta 0:00:02\n",
      "   ---------------------------------- ---- 109.8/124.9 MB 12.6 MB/s eta 0:00:02\n",
      "   ---------------------------------- ---- 110.5/124.9 MB 12.8 MB/s eta 0:00:02\n",
      "   ---------------------------------- ---- 111.1/124.9 MB 12.6 MB/s eta 0:00:02\n",
      "   ---------------------------------- ---- 111.8/124.9 MB 12.4 MB/s eta 0:00:02\n",
      "   ----------------------------------- --- 112.4/124.9 MB 12.8 MB/s eta 0:00:01\n",
      "   ----------------------------------- --- 112.9/124.9 MB 12.6 MB/s eta 0:00:01\n",
      "   ----------------------------------- --- 113.4/124.9 MB 12.6 MB/s eta 0:00:01\n",
      "   ----------------------------------- --- 113.9/124.9 MB 12.6 MB/s eta 0:00:01\n",
      "   ----------------------------------- --- 114.5/124.9 MB 12.6 MB/s eta 0:00:01\n",
      "   ----------------------------------- --- 115.1/124.9 MB 12.6 MB/s eta 0:00:01\n",
      "   ------------------------------------ -- 115.7/124.9 MB 12.6 MB/s eta 0:00:01\n",
      "   ------------------------------------ -- 116.3/124.9 MB 12.6 MB/s eta 0:00:01\n",
      "   ------------------------------------ -- 117.0/124.9 MB 12.6 MB/s eta 0:00:01\n",
      "   ------------------------------------ -- 117.6/124.9 MB 12.6 MB/s eta 0:00:01\n",
      "   ------------------------------------ -- 118.2/124.9 MB 12.6 MB/s eta 0:00:01\n",
      "   ------------------------------------- - 118.7/124.9 MB 12.6 MB/s eta 0:00:01\n",
      "   ------------------------------------- - 119.3/124.9 MB 12.6 MB/s eta 0:00:01\n",
      "   ------------------------------------- - 119.9/124.9 MB 12.6 MB/s eta 0:00:01\n",
      "   ------------------------------------- - 120.5/124.9 MB 12.6 MB/s eta 0:00:01\n",
      "   ------------------------------------- - 121.0/124.9 MB 12.6 MB/s eta 0:00:01\n",
      "   ------------------------------------- - 121.6/124.9 MB 12.6 MB/s eta 0:00:01\n",
      "   --------------------------------------  121.7/124.9 MB 12.4 MB/s eta 0:00:01\n",
      "   --------------------------------------  122.5/124.9 MB 12.4 MB/s eta 0:00:01\n",
      "   --------------------------------------  123.1/124.9 MB 11.9 MB/s eta 0:00:01\n",
      "   --------------------------------------  123.2/124.9 MB 11.9 MB/s eta 0:00:01\n",
      "   --------------------------------------  123.9/124.9 MB 11.9 MB/s eta 0:00:01\n",
      "   --------------------------------------  124.6/124.9 MB 11.9 MB/s eta 0:00:01\n",
      "   --------------------------------------  124.9/124.9 MB 11.3 MB/s eta 0:00:01\n",
      "   --------------------------------------  124.9/124.9 MB 11.3 MB/s eta 0:00:01\n",
      "   --------------------------------------  124.9/124.9 MB 11.3 MB/s eta 0:00:01\n",
      "   --------------------------------------  124.9/124.9 MB 11.3 MB/s eta 0:00:01\n",
      "   --------------------------------------  124.9/124.9 MB 11.3 MB/s eta 0:00:01\n",
      "   ---------------------------------------- 124.9/124.9 MB 9.3 MB/s eta 0:00:00\n",
      "Installing collected packages: xgboost\n",
      "Successfully installed xgboost-2.1.0\n",
      "Note: you may need to restart the kernel to use updated packages.\n"
     ]
    },
    {
     "name": "stderr",
     "output_type": "stream",
     "text": [
      "\n",
      "[notice] A new release of pip is available: 24.0 -> 24.1.1\n",
      "[notice] To update, run: python.exe -m pip install --upgrade pip\n"
     ]
    }
   ],
   "source": [
    "pip install --user xgboost"
   ]
  },
  {
   "cell_type": "code",
   "execution_count": 31,
   "metadata": {},
   "outputs": [
    {
     "name": "stdout",
     "output_type": "stream",
     "text": [
      "XGBoost Mean Accuracy: 0.7434723171565276\n"
     ]
    }
   ],
   "source": [
    "import xgboost as xgb \n",
    "from sklearn.model_selection import cross_val_score\n",
    "from sklearn.datasets import load_iris\n",
    "\n",
    "# Crear y entrenar el modelo XGBoost \n",
    "random_state = 42\n",
    "xgb_model = xgb.XGBClassifier(n_estimators=100, random_state=random_state, eval_metric='mlogloss')\n",
    "\n",
    "# Validación cruzada\n",
    "cv_scores_xgb = cross_val_score(xgb_model, X, y, cv=10, scoring='accuracy')\n",
    "\n",
    "# Resultados\n",
    "xgb_mean_accuracy = cv_scores_xgb.mean()\n",
    "print(f'XGBoost Mean Accuracy: {xgb_mean_accuracy}')  "
   ]
  },
  {
   "cell_type": "code",
   "execution_count": 23,
   "metadata": {},
   "outputs": [
    {
     "name": "stdout",
     "output_type": "stream",
     "text": [
      "          Algorithm  cv_mean_accuracy\n",
      "0           Bagging          0.770813\n",
      "1      RandomForest          0.768199\n",
      "3  GradientBoosting          0.760407\n",
      "4               XGB          0.743472\n",
      "2       AdaBoosting          0.699077\n"
     ]
    }
   ],
   "source": [
    "# Crear DataFrame con los resultados\n",
    "results = pd.DataFrame({\n",
    "    'Algorithm': ['Bagging', 'RandomForest', 'AdaBoosting', 'GradientBoosting', 'XGB'],\n",
    "    'cv_mean_accuracy': [bagging_mean_accuracy, rf_mean_accuracy, ada_mean_accuracy, gb_mean_accuracy, xgb_mean_accuracy]\n",
    "})\n",
    "\n",
    "# Ordenar de mayor a menor\n",
    "results = results.sort_values(by='cv_mean_accuracy', ascending=False)\n",
    "\n",
    "print(results) "
   ]
  },
  {
   "attachments": {},
   "cell_type": "markdown",
   "metadata": {},
   "source": [
    "### Hiperparametrización\n",
    "Vuelve a entrenar los modelos de nuevo, pero esta vez dividiendo el conjunto de datos en train/test y utilizando un gridsearch para encontrar los mejores hiperparámetros. "
   ]
  },
  {
   "cell_type": "code",
   "execution_count": 29,
   "metadata": {},
   "outputs": [
    {
     "name": "stdout",
     "output_type": "stream",
     "text": [
      "          Algorithm  Best CV Score\n",
      "0      RandomForest       0.776903\n",
      "1       AdaBoosting       0.719832\n",
      "2  GradientBoosting       0.776903\n",
      "3               XGB       0.780168\n"
     ]
    }
   ],
   "source": [
    "from sklearn.model_selection import GridSearchCV, train_test_split\n",
    "\n",
    "# Dividir datos en entrenamiento y prueba\n",
    "X_train, X_test, y_train, y_test = train_test_split(X, y, test_size=0.2, random_state=random_state)\n",
    "\n",
    "# GridSearch para RandomForest\n",
    "param_grid_rf = {\n",
    "    'n_estimators': [50, 100, 200],\n",
    "    'max_features': [2, 3, 4],\n",
    "    'max_depth': [None, 10, 20]\n",
    "}\n",
    "\n",
    "grid_search_rf = GridSearchCV(estimator=RandomForestClassifier(random_state=random_state), \n",
    "                              param_grid=param_grid_rf, \n",
    "                              cv=5, \n",
    "                              scoring='accuracy')\n",
    "\n",
    "grid_search_rf.fit(X_train, y_train)\n",
    "best_rf_model = grid_search_rf.best_estimator_\n",
    "rf_best_score = grid_search_rf.best_score_\n",
    "\n",
    "# GridSearch para AdaBoost\n",
    "param_grid_ada = {\n",
    "    'n_estimators': [30, 50, 100],\n",
    "    'learning_rate': [0.01, 0.1, 1],\n",
    "    'algorithm': ['SAMME']\n",
    "}\n",
    "\n",
    "grid_search_ada = GridSearchCV(estimator=AdaBoostClassifier(estimator=DecisionTreeClassifier(random_state=random_state), random_state=random_state), \n",
    "                               param_grid=param_grid_ada, \n",
    "                               cv=5, \n",
    "                               scoring='accuracy')\n",
    "\n",
    "grid_search_ada.fit(X_train, y_train)\n",
    "best_ada_model = grid_search_ada.best_estimator_\n",
    "ada_best_score = grid_search_ada.best_score_\n",
    "\n",
    "# GridSearch para GradientBoosting\n",
    "param_grid_gb = {\n",
    "    'n_estimators': [50, 100, 200],\n",
    "    'learning_rate': [0.01, 0.1, 0.2],\n",
    "    'max_depth': [3, 5, 7]\n",
    "}\n",
    "\n",
    "grid_search_gb = GridSearchCV(estimator=GradientBoostingClassifier(random_state=random_state), \n",
    "                              param_grid=param_grid_gb, \n",
    "                              cv=5, \n",
    "                              scoring='accuracy')\n",
    "\n",
    "grid_search_gb.fit(X_train, y_train)\n",
    "best_gb_model = grid_search_gb.best_estimator_\n",
    "gb_best_score = grid_search_gb.best_score_\n",
    "\n",
    "# GridSearch para XGBoost\n",
    "param_grid_xgb = {\n",
    "    'n_estimators': [50, 100, 200],\n",
    "    'learning_rate': [0.01, 0.1, 0.2],\n",
    "    'max_depth': [3, 5, 7]\n",
    "}\n",
    "\n",
    "grid_search_xgb = GridSearchCV(estimator=xgb.XGBClassifier(random_state=random_state, eval_metric='mlogloss'), \n",
    "                               param_grid=param_grid_xgb, \n",
    "                               cv=5, \n",
    "                               scoring='accuracy')\n",
    "\n",
    "grid_search_xgb.fit(X_train, y_train)\n",
    "best_xgb_model = grid_search_xgb.best_estimator_\n",
    "xgb_best_score = grid_search_xgb.best_score_\n",
    "\n",
    "# Resultados de GridSearch\n",
    "grid_results = pd.DataFrame({\n",
    "    'Algorithm': ['RandomForest', 'AdaBoosting', 'GradientBoosting', 'XGB'],\n",
    "    'Best CV Score': [rf_best_score, ada_best_score, gb_best_score, xgb_best_score]\n",
    "})\n",
    "\n",
    "print(grid_results) "
   ]
  },
  {
   "attachments": {},
   "cell_type": "markdown",
   "metadata": {},
   "source": [
    "### Conclusiones finales\n",
    "\n",
    "Redacta la información relativa a qué atributos parecen ser los más importantes, qué modelo parece ofrecer un mejor rendimiento y con qué parámetros. "
   ]
  },
  {
   "cell_type": "code",
   "execution_count": 26,
   "metadata": {},
   "outputs": [
    {
     "name": "stdout",
     "output_type": "stream",
     "text": [
      "Feature Importances from the best RandomForest model:\n",
      "  Feature  Importance\n",
      "1    plas    0.253925\n",
      "5    mass    0.167603\n",
      "7     age    0.143691\n",
      "6    pedi    0.124735\n",
      "2    pres    0.090587\n",
      "4    test    0.078246\n",
      "0    preg    0.075036\n",
      "3    skin    0.066176\n",
      "El mejor algoritmo es XGB con los parámetros {'learning_rate': 0.1, 'max_depth': 3, 'n_estimators': 50}\n"
     ]
    }
   ],
   "source": [
    "# Atributos importantes del mejor modelo de RandomForest\n",
    "importances = best_rf_model.feature_importances_\n",
    "feature_names = X.columns\n",
    "feature_importances = pd.DataFrame({'Feature': feature_names, 'Importance': importances}).sort_values(by='Importance', ascending=False)\n",
    "\n",
    "print(\"Feature Importances from the best RandomForest model:\")\n",
    "print(feature_importances)\n",
    "\n",
    "# Conclusión sobre el mejor modelo\n",
    "best_algorithm = grid_results.loc[grid_results['Best CV Score'].idxmax()]['Algorithm']\n",
    "best_params = grid_search_rf.best_params_ if best_algorithm == 'RandomForest' else \\\n",
    "              grid_search_ada.best_params_ if best_algorithm == 'AdaBoosting' else \\\n",
    "              grid_search_gb.best_params_ if best_algorithm == 'GradientBoosting' else \\\n",
    "              grid_search_xgb.best_params_\n",
    "\n",
    "print(f'El mejor algoritmo es {best_algorithm} con los parámetros {best_params}') "
   ]
  }
 ],
 "metadata": {
  "kernelspec": {
   "display_name": "Python 3.7.4 64-bit",
   "language": "python",
   "name": "python3"
  },
  "language_info": {
   "codemirror_mode": {
    "name": "ipython",
    "version": 3
   },
   "file_extension": ".py",
   "mimetype": "text/x-python",
   "name": "python",
   "nbconvert_exporter": "python",
   "pygments_lexer": "ipython3",
   "version": "3.12.3"
  },
  "vscode": {
   "interpreter": {
    "hash": "90139cb9a825bf3d63f6f6704e828dbd1ff7edbd4d0c6e906a71235d6efc74af"
   }
  }
 },
 "nbformat": 4,
 "nbformat_minor": 4
}
