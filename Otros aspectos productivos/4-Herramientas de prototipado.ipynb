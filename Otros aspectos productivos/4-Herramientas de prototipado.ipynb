{
 "cells": [
  {
   "cell_type": "markdown",
   "metadata": {},
   "source": [
    "# Prototipado\n",
    "\n",
    "No somos desarrolladores. Sabemos construir modelos basados en Python y podemos hacer algo de código pero construir una aplicación que muestre a los usuarios finales que pinta podría tener una aplicación que use nuestro modelo a veces puede ser todo un reto.\n",
    "\n",
    "No podemos enseñarles simples notebooks con código a nuestros clientes. Hay parte que podemos aterrizar en una presentación pero queremos que no tengan que usar demasiado su imaginación y poner nuestro modelo en términos que ellos puedan entender.\n",
    "\n",
    "Dada esta necesidad se han creado librerías/frameworks de Python que nos permiten desarrollar interfaces simples y mostrar qué pinta tendría nuestro modelo una vez puesto en marcha.\n",
    "\n",
    "## Streamlit\n",
    "\n",
    "Quizás la más popular, cuenta con una base de usuarios muy amplia y permite realizar cosas muy complejas de forma sencilla. Fue adquirida por Snowflake hace pocos años debido a su potencial y por eso disponéis de una sección dedicada a apps en la consola de Snowflake.\n",
    "\n",
    "![streamlit](img/sis-example-app.png)\n",
    "\n",
    "Referencia: https://docs.snowflake.com/en/developer-guide/streamlit/about-streamlit\n",
    "\n",
    "Se basa en crear un simple script (llameémosle _app.py_) e importar la librería `streamlit`.\n",
    "\n",
    "```py\n",
    "import streamlit as st\n",
    "\n",
    "st.write(\"\"\"\n",
    "\n",
    "# Welcome!\n",
    "\n",
    "This is my first app.\n",
    "\n",
    "\"\"\")\n",
    "```\n",
    "\n",
    "Lanzando la aplicación podremos crear una página web que nos transformará el código markdown en código HTML para que nuestro navegador pueda visualizarlo. Podemos ver ejemplos de los comandos disponibles en la documentación de streamlit: https://docs.streamlit.io/get-started/installation\n",
    "\n",
    "Quizás una de las formas más sencillas de familiarizarse es mediante la galería de Apps: https://streamlit.io/gallery"
   ]
  },
  {
   "cell_type": "markdown",
   "metadata": {},
   "source": [
    "## Gradio\n",
    "\n",
    "Quizás algo más sencillo que Streamlit, Gradio se creo con el foco puesto en modelos de Machine Learning y fue muy respaldado por comunidades como HuggingFace donde se emplea para la sección de aplicaciones (Spaces) que esta alberga.\n",
    "\n",
    "![grad](img/gradio.png)\n",
    "\n",
    "A diferencia de Streamlit, Gradio si que permite ser embebido en un notebook de forma sencilla."
   ]
  },
  {
   "cell_type": "code",
   "execution_count": 1,
   "metadata": {},
   "outputs": [
    {
     "name": "stdout",
     "output_type": "stream",
     "text": [
      "Defaulting to user installation because normal site-packages is not writeable\n",
      "Collecting gradio\n",
      "  Downloading gradio-4.43.0-py3-none-any.whl.metadata (15 kB)\n",
      "Collecting aiofiles<24.0,>=22.0 (from gradio)\n",
      "  Downloading aiofiles-23.2.1-py3-none-any.whl.metadata (9.7 kB)\n",
      "Requirement already satisfied: anyio<5.0,>=3.0 in c:\\users\\urios\\appdata\\roaming\\python\\python311\\site-packages (from gradio) (4.0.0)\n",
      "Collecting fastapi<0.113.0 (from gradio)\n",
      "  Downloading fastapi-0.112.4-py3-none-any.whl.metadata (27 kB)\n",
      "Collecting ffmpy (from gradio)\n",
      "  Downloading ffmpy-0.4.0-py3-none-any.whl.metadata (2.9 kB)\n",
      "Collecting gradio-client==1.3.0 (from gradio)\n",
      "  Downloading gradio_client-1.3.0-py3-none-any.whl.metadata (7.1 kB)\n",
      "Collecting httpx>=0.24.1 (from gradio)\n",
      "  Downloading httpx-0.27.2-py3-none-any.whl.metadata (7.1 kB)\n",
      "Requirement already satisfied: huggingface-hub>=0.19.3 in c:\\users\\urios\\appdata\\roaming\\python\\python311\\site-packages (from gradio) (0.24.3)\n",
      "Requirement already satisfied: importlib-resources<7.0,>=1.3 in c:\\users\\urios\\appdata\\roaming\\python\\python311\\site-packages (from gradio) (6.4.0)\n",
      "Requirement already satisfied: jinja2<4.0 in c:\\users\\urios\\appdata\\roaming\\python\\python311\\site-packages (from gradio) (3.1.2)\n",
      "Requirement already satisfied: markupsafe~=2.0 in c:\\users\\urios\\appdata\\roaming\\python\\python311\\site-packages (from gradio) (2.1.3)\n",
      "Requirement already satisfied: matplotlib~=3.0 in c:\\users\\urios\\appdata\\roaming\\python\\python311\\site-packages (from gradio) (3.9.1)\n",
      "Requirement already satisfied: numpy<3.0,>=1.0 in c:\\users\\urios\\appdata\\roaming\\python\\python311\\site-packages (from gradio) (1.26.4)\n",
      "Collecting orjson~=3.0 (from gradio)\n",
      "  Downloading orjson-3.10.7-cp311-none-win_amd64.whl.metadata (51 kB)\n",
      "     ---------------------------------------- 0.0/51.7 kB ? eta -:--:--\n",
      "     ---------------------------------------- 51.7/51.7 kB 2.8 MB/s eta 0:00:00\n",
      "Requirement already satisfied: packaging in c:\\users\\urios\\appdata\\roaming\\python\\python311\\site-packages (from gradio) (23.1)\n",
      "Requirement already satisfied: pandas<3.0,>=1.0 in c:\\users\\urios\\appdata\\roaming\\python\\python311\\site-packages (from gradio) (2.2.2)\n",
      "Requirement already satisfied: pillow<11.0,>=8.0 in c:\\users\\urios\\appdata\\roaming\\python\\python311\\site-packages (from gradio) (10.4.0)\n",
      "Requirement already satisfied: pydantic>=2.0 in c:\\users\\urios\\appdata\\roaming\\python\\python311\\site-packages (from gradio) (2.8.2)\n",
      "Collecting pydub (from gradio)\n",
      "  Downloading pydub-0.25.1-py2.py3-none-any.whl.metadata (1.4 kB)\n",
      "Collecting python-multipart>=0.0.9 (from gradio)\n",
      "  Downloading python_multipart-0.0.9-py3-none-any.whl.metadata (2.5 kB)\n",
      "Requirement already satisfied: pyyaml<7.0,>=5.0 in c:\\users\\urios\\appdata\\roaming\\python\\python311\\site-packages (from gradio) (6.0.1)\n",
      "Collecting ruff>=0.2.2 (from gradio)\n",
      "  Downloading ruff-0.6.4-py3-none-win_amd64.whl.metadata (25 kB)\n",
      "Requirement already satisfied: semantic-version~=2.0 in c:\\users\\urios\\appdata\\roaming\\python\\python311\\site-packages (from gradio) (2.10.0)\n",
      "Collecting tomlkit==0.12.0 (from gradio)\n",
      "  Downloading tomlkit-0.12.0-py3-none-any.whl.metadata (2.7 kB)\n",
      "Requirement already satisfied: typer<1.0,>=0.12 in c:\\users\\urios\\appdata\\roaming\\python\\python311\\site-packages (from gradio) (0.12.3)\n",
      "Requirement already satisfied: typing-extensions~=4.0 in c:\\users\\urios\\appdata\\roaming\\python\\python311\\site-packages (from gradio) (4.12.2)\n",
      "Requirement already satisfied: urllib3~=2.0 in c:\\users\\urios\\appdata\\roaming\\python\\python311\\site-packages (from gradio) (2.0.5)\n",
      "Collecting uvicorn>=0.14.0 (from gradio)\n",
      "  Downloading uvicorn-0.30.6-py3-none-any.whl.metadata (6.6 kB)\n",
      "Requirement already satisfied: fsspec in c:\\users\\urios\\appdata\\roaming\\python\\python311\\site-packages (from gradio-client==1.3.0->gradio) (2024.6.1)\n",
      "Collecting websockets<13.0,>=10.0 (from gradio-client==1.3.0->gradio)\n",
      "  Downloading websockets-12.0-cp311-cp311-win_amd64.whl.metadata (6.8 kB)\n",
      "Requirement already satisfied: idna>=2.8 in c:\\users\\urios\\appdata\\roaming\\python\\python311\\site-packages (from anyio<5.0,>=3.0->gradio) (3.4)\n",
      "Requirement already satisfied: sniffio>=1.1 in c:\\users\\urios\\appdata\\roaming\\python\\python311\\site-packages (from anyio<5.0,>=3.0->gradio) (1.3.0)\n",
      "Collecting starlette<0.39.0,>=0.37.2 (from fastapi<0.113.0->gradio)\n",
      "  Downloading starlette-0.38.4-py3-none-any.whl.metadata (6.0 kB)\n",
      "Requirement already satisfied: certifi in c:\\users\\urios\\appdata\\roaming\\python\\python311\\site-packages (from httpx>=0.24.1->gradio) (2023.7.22)\n",
      "Collecting httpcore==1.* (from httpx>=0.24.1->gradio)\n",
      "  Downloading httpcore-1.0.5-py3-none-any.whl.metadata (20 kB)\n",
      "Collecting h11<0.15,>=0.13 (from httpcore==1.*->httpx>=0.24.1->gradio)\n",
      "  Downloading h11-0.14.0-py3-none-any.whl.metadata (8.2 kB)\n",
      "Requirement already satisfied: filelock in c:\\users\\urios\\appdata\\roaming\\python\\python311\\site-packages (from huggingface-hub>=0.19.3->gradio) (3.15.4)\n",
      "Requirement already satisfied: requests in c:\\users\\urios\\appdata\\roaming\\python\\python311\\site-packages (from huggingface-hub>=0.19.3->gradio) (2.31.0)\n",
      "Requirement already satisfied: tqdm>=4.42.1 in c:\\users\\urios\\appdata\\roaming\\python\\python311\\site-packages (from huggingface-hub>=0.19.3->gradio) (4.66.4)\n",
      "Requirement already satisfied: contourpy>=1.0.1 in c:\\users\\urios\\appdata\\roaming\\python\\python311\\site-packages (from matplotlib~=3.0->gradio) (1.2.1)\n",
      "Requirement already satisfied: cycler>=0.10 in c:\\users\\urios\\appdata\\roaming\\python\\python311\\site-packages (from matplotlib~=3.0->gradio) (0.12.1)\n",
      "Requirement already satisfied: fonttools>=4.22.0 in c:\\users\\urios\\appdata\\roaming\\python\\python311\\site-packages (from matplotlib~=3.0->gradio) (4.53.1)\n",
      "Requirement already satisfied: kiwisolver>=1.3.1 in c:\\users\\urios\\appdata\\roaming\\python\\python311\\site-packages (from matplotlib~=3.0->gradio) (1.4.5)\n",
      "Requirement already satisfied: pyparsing>=2.3.1 in c:\\users\\urios\\appdata\\roaming\\python\\python311\\site-packages (from matplotlib~=3.0->gradio) (3.1.2)\n",
      "Requirement already satisfied: python-dateutil>=2.7 in c:\\users\\urios\\appdata\\roaming\\python\\python311\\site-packages (from matplotlib~=3.0->gradio) (2.8.2)\n",
      "Requirement already satisfied: pytz>=2020.1 in c:\\users\\urios\\appdata\\roaming\\python\\python311\\site-packages (from pandas<3.0,>=1.0->gradio) (2024.1)\n",
      "Requirement already satisfied: tzdata>=2022.7 in c:\\users\\urios\\appdata\\roaming\\python\\python311\\site-packages (from pandas<3.0,>=1.0->gradio) (2024.1)\n",
      "Requirement already satisfied: annotated-types>=0.4.0 in c:\\users\\urios\\appdata\\roaming\\python\\python311\\site-packages (from pydantic>=2.0->gradio) (0.7.0)\n",
      "Requirement already satisfied: pydantic-core==2.20.1 in c:\\users\\urios\\appdata\\roaming\\python\\python311\\site-packages (from pydantic>=2.0->gradio) (2.20.1)\n",
      "Requirement already satisfied: click>=8.0.0 in c:\\users\\urios\\appdata\\roaming\\python\\python311\\site-packages (from typer<1.0,>=0.12->gradio) (8.1.7)\n",
      "Requirement already satisfied: shellingham>=1.3.0 in c:\\users\\urios\\appdata\\roaming\\python\\python311\\site-packages (from typer<1.0,>=0.12->gradio) (1.5.4)\n",
      "Requirement already satisfied: rich>=10.11.0 in c:\\users\\urios\\appdata\\roaming\\python\\python311\\site-packages (from typer<1.0,>=0.12->gradio) (13.7.1)\n",
      "Requirement already satisfied: colorama in c:\\users\\urios\\appdata\\roaming\\python\\python311\\site-packages (from click>=8.0.0->typer<1.0,>=0.12->gradio) (0.4.6)\n",
      "Requirement already satisfied: six>=1.5 in c:\\users\\urios\\appdata\\roaming\\python\\python311\\site-packages (from python-dateutil>=2.7->matplotlib~=3.0->gradio) (1.16.0)\n",
      "Requirement already satisfied: markdown-it-py>=2.2.0 in c:\\users\\urios\\appdata\\roaming\\python\\python311\\site-packages (from rich>=10.11.0->typer<1.0,>=0.12->gradio) (3.0.0)\n",
      "Requirement already satisfied: pygments<3.0.0,>=2.13.0 in c:\\users\\urios\\appdata\\roaming\\python\\python311\\site-packages (from rich>=10.11.0->typer<1.0,>=0.12->gradio) (2.16.1)\n",
      "Requirement already satisfied: charset-normalizer<4,>=2 in c:\\users\\urios\\appdata\\roaming\\python\\python311\\site-packages (from requests->huggingface-hub>=0.19.3->gradio) (3.3.0)\n",
      "Requirement already satisfied: mdurl~=0.1 in c:\\users\\urios\\appdata\\roaming\\python\\python311\\site-packages (from markdown-it-py>=2.2.0->rich>=10.11.0->typer<1.0,>=0.12->gradio) (0.1.2)\n",
      "Downloading gradio-4.43.0-py3-none-any.whl (18.1 MB)\n",
      "   ---------------------------------------- 0.0/18.1 MB ? eta -:--:--\n",
      "   ---------------------------------------- 0.2/18.1 MB 6.9 MB/s eta 0:00:03\n",
      "   -- ------------------------------------- 1.0/18.1 MB 12.5 MB/s eta 0:00:02\n",
      "   -- ------------------------------------- 1.2/18.1 MB 9.7 MB/s eta 0:00:02\n",
      "   ---- ----------------------------------- 2.1/18.1 MB 11.1 MB/s eta 0:00:02\n",
      "   ---- ----------------------------------- 2.1/18.1 MB 9.0 MB/s eta 0:00:02\n",
      "   ---- ----------------------------------- 2.1/18.1 MB 7.1 MB/s eta 0:00:03\n",
      "   ----- ---------------------------------- 2.3/18.1 MB 6.6 MB/s eta 0:00:03\n",
      "   ----- ---------------------------------- 2.4/18.1 MB 5.8 MB/s eta 0:00:03\n",
      "   ----- ---------------------------------- 2.5/18.1 MB 5.4 MB/s eta 0:00:03\n",
      "   ----- ---------------------------------- 2.6/18.1 MB 5.3 MB/s eta 0:00:03\n",
      "   -------- ------------------------------- 3.9/18.1 MB 7.0 MB/s eta 0:00:03\n",
      "   -------- ------------------------------- 4.0/18.1 MB 7.1 MB/s eta 0:00:02\n",
      "   -------- ------------------------------- 4.0/18.1 MB 7.1 MB/s eta 0:00:02\n",
      "   --------- ------------------------------ 4.1/18.1 MB 6.0 MB/s eta 0:00:03\n",
      "   --------- ------------------------------ 4.1/18.1 MB 5.7 MB/s eta 0:00:03\n",
      "   --------- ------------------------------ 4.2/18.1 MB 5.4 MB/s eta 0:00:03\n",
      "   --------- ------------------------------ 4.4/18.1 MB 5.2 MB/s eta 0:00:03\n",
      "   ---------- ----------------------------- 4.6/18.1 MB 5.1 MB/s eta 0:00:03\n",
      "   ---------- ----------------------------- 4.8/18.1 MB 5.1 MB/s eta 0:00:03\n",
      "   ------------ --------------------------- 5.6/18.1 MB 5.7 MB/s eta 0:00:03\n",
      "   ------------- -------------------------- 6.2/18.1 MB 6.1 MB/s eta 0:00:02\n",
      "   -------------- ------------------------- 6.4/18.1 MB 6.0 MB/s eta 0:00:02\n",
      "   -------------- ------------------------- 6.7/18.1 MB 6.2 MB/s eta 0:00:02\n",
      "   --------------- ------------------------ 7.2/18.1 MB 6.3 MB/s eta 0:00:02\n",
      "   ---------------- ----------------------- 7.4/18.1 MB 6.3 MB/s eta 0:00:02\n",
      "   ----------------- ---------------------- 7.9/18.1 MB 6.4 MB/s eta 0:00:02\n",
      "   ------------------ --------------------- 8.2/18.1 MB 6.3 MB/s eta 0:00:02\n",
      "   ------------------ --------------------- 8.4/18.1 MB 6.3 MB/s eta 0:00:02\n",
      "   ------------------- -------------------- 8.7/18.1 MB 6.4 MB/s eta 0:00:02\n",
      "   ------------------- -------------------- 9.0/18.1 MB 6.4 MB/s eta 0:00:02\n",
      "   -------------------- ------------------- 9.3/18.1 MB 6.4 MB/s eta 0:00:02\n",
      "   --------------------- ------------------ 9.6/18.1 MB 6.4 MB/s eta 0:00:02\n",
      "   ---------------------- ----------------- 9.9/18.1 MB 6.4 MB/s eta 0:00:02\n",
      "   ---------------------- ----------------- 10.2/18.1 MB 6.4 MB/s eta 0:00:02\n",
      "   ----------------------- ---------------- 10.5/18.1 MB 6.4 MB/s eta 0:00:02\n",
      "   ----------------------- ---------------- 10.8/18.1 MB 6.4 MB/s eta 0:00:02\n",
      "   ------------------------ --------------- 11.1/18.1 MB 6.2 MB/s eta 0:00:02\n",
      "   ------------------------- -------------- 11.4/18.1 MB 6.2 MB/s eta 0:00:02\n",
      "   -------------------------- ------------- 11.8/18.1 MB 6.2 MB/s eta 0:00:02\n",
      "   -------------------------- ------------- 12.1/18.1 MB 6.1 MB/s eta 0:00:01\n",
      "   --------------------------- ------------ 12.4/18.1 MB 6.5 MB/s eta 0:00:01\n",
      "   ---------------------------- ----------- 12.8/18.1 MB 7.0 MB/s eta 0:00:01\n",
      "   ---------------------------- ----------- 13.0/18.1 MB 6.9 MB/s eta 0:00:01\n",
      "   ----------------------------- ---------- 13.4/18.1 MB 6.7 MB/s eta 0:00:01\n",
      "   ------------------------------ --------- 13.7/18.1 MB 6.5 MB/s eta 0:00:01\n",
      "   ------------------------------- -------- 14.0/18.1 MB 6.5 MB/s eta 0:00:01\n",
      "   ------------------------------- -------- 14.4/18.1 MB 7.2 MB/s eta 0:00:01\n",
      "   -------------------------------- ------- 14.7/18.1 MB 7.6 MB/s eta 0:00:01\n",
      "   --------------------------------- ------ 15.1/18.1 MB 7.7 MB/s eta 0:00:01\n",
      "   ---------------------------------- ----- 15.4/18.1 MB 7.5 MB/s eta 0:00:01\n",
      "   ---------------------------------- ----- 15.6/18.1 MB 7.4 MB/s eta 0:00:01\n",
      "   ----------------------------------- ---- 16.0/18.1 MB 7.3 MB/s eta 0:00:01\n",
      "   ------------------------------------ --- 16.4/18.1 MB 7.2 MB/s eta 0:00:01\n",
      "   ------------------------------------- -- 16.8/18.1 MB 7.3 MB/s eta 0:00:01\n",
      "   ------------------------------------- -- 17.1/18.1 MB 7.3 MB/s eta 0:00:01\n",
      "   -------------------------------------- - 17.5/18.1 MB 7.3 MB/s eta 0:00:01\n",
      "   ---------------------------------------  17.9/18.1 MB 7.3 MB/s eta 0:00:01\n",
      "   ---------------------------------------  18.1/18.1 MB 7.3 MB/s eta 0:00:01\n",
      "   ---------------------------------------- 18.1/18.1 MB 7.0 MB/s eta 0:00:00\n",
      "Downloading gradio_client-1.3.0-py3-none-any.whl (318 kB)\n",
      "   ---------------------------------------- 0.0/318.7 kB ? eta -:--:--\n",
      "   ---------------------------------------  317.4/318.7 kB 9.6 MB/s eta 0:00:01\n",
      "   ---------------------------------------- 318.7/318.7 kB 6.6 MB/s eta 0:00:00\n",
      "Downloading tomlkit-0.12.0-py3-none-any.whl (37 kB)\n",
      "Downloading aiofiles-23.2.1-py3-none-any.whl (15 kB)\n",
      "Downloading fastapi-0.112.4-py3-none-any.whl (93 kB)\n",
      "   ---------------------------------------- 0.0/93.9 kB ? eta -:--:--\n",
      "   ---------------------------------------- 93.9/93.9 kB 5.6 MB/s eta 0:00:00\n",
      "Downloading httpx-0.27.2-py3-none-any.whl (76 kB)\n",
      "   ---------------------------------------- 0.0/76.4 kB ? eta -:--:--\n",
      "   ---------------------------------------- 76.4/76.4 kB 4.4 MB/s eta 0:00:00\n",
      "Downloading httpcore-1.0.5-py3-none-any.whl (77 kB)\n",
      "   ---------------------------------------- 0.0/77.9 kB ? eta -:--:--\n",
      "   ---------------------------------------- 77.9/77.9 kB 4.2 MB/s eta 0:00:00\n",
      "Downloading orjson-3.10.7-cp311-none-win_amd64.whl (137 kB)\n",
      "   ---------------------------------------- 0.0/137.3 kB ? eta -:--:--\n",
      "   ---------------------------------------- 137.3/137.3 kB 7.9 MB/s eta 0:00:00\n",
      "Downloading python_multipart-0.0.9-py3-none-any.whl (22 kB)\n",
      "Downloading ruff-0.6.4-py3-none-win_amd64.whl (8.8 MB)\n",
      "   ---------------------------------------- 0.0/8.8 MB ? eta -:--:--\n",
      "   - -------------------------------------- 0.4/8.8 MB 12.6 MB/s eta 0:00:01\n",
      "   --- ------------------------------------ 0.8/8.8 MB 10.1 MB/s eta 0:00:01\n",
      "   ----- ---------------------------------- 1.1/8.8 MB 10.1 MB/s eta 0:00:01\n",
      "   ------ --------------------------------- 1.5/8.8 MB 8.8 MB/s eta 0:00:01\n",
      "   -------- ------------------------------- 1.9/8.8 MB 9.5 MB/s eta 0:00:01\n",
      "   ---------- ----------------------------- 2.3/8.8 MB 9.1 MB/s eta 0:00:01\n",
      "   ------------ --------------------------- 2.7/8.8 MB 8.9 MB/s eta 0:00:01\n",
      "   -------------- ------------------------- 3.1/8.8 MB 9.0 MB/s eta 0:00:01\n",
      "   --------------- ------------------------ 3.5/8.8 MB 8.8 MB/s eta 0:00:01\n",
      "   ----------------- ---------------------- 3.8/8.8 MB 8.6 MB/s eta 0:00:01\n",
      "   ------------------ --------------------- 4.1/8.8 MB 8.5 MB/s eta 0:00:01\n",
      "   -------------------- ------------------- 4.6/8.8 MB 8.6 MB/s eta 0:00:01\n",
      "   ---------------------- ----------------- 5.0/8.8 MB 8.6 MB/s eta 0:00:01\n",
      "   ------------------------ --------------- 5.3/8.8 MB 8.7 MB/s eta 0:00:01\n",
      "   ------------------------- -------------- 5.7/8.8 MB 8.5 MB/s eta 0:00:01\n",
      "   --------------------------- ------------ 6.1/8.8 MB 8.6 MB/s eta 0:00:01\n",
      "   ----------------------------- ---------- 6.5/8.8 MB 8.7 MB/s eta 0:00:01\n",
      "   ------------------------------ --------- 6.7/8.8 MB 8.6 MB/s eta 0:00:01\n",
      "   --------------------------------- ------ 7.4/8.8 MB 8.8 MB/s eta 0:00:01\n",
      "   ----------------------------------- ---- 7.7/8.8 MB 8.6 MB/s eta 0:00:01\n",
      "   ------------------------------------- -- 8.2/8.8 MB 8.9 MB/s eta 0:00:01\n",
      "   ---------------------------------------  8.6/8.8 MB 8.7 MB/s eta 0:00:01\n",
      "   ---------------------------------------  8.8/8.8 MB 8.8 MB/s eta 0:00:01\n",
      "   ---------------------------------------- 8.8/8.8 MB 8.3 MB/s eta 0:00:00\n",
      "Downloading uvicorn-0.30.6-py3-none-any.whl (62 kB)\n",
      "   ---------------------------------------- 0.0/62.8 kB ? eta -:--:--\n",
      "   ---------------------------------------- 62.8/62.8 kB 3.5 MB/s eta 0:00:00\n",
      "Downloading ffmpy-0.4.0-py3-none-any.whl (5.8 kB)\n",
      "Downloading pydub-0.25.1-py2.py3-none-any.whl (32 kB)\n",
      "Using cached h11-0.14.0-py3-none-any.whl (58 kB)\n",
      "Downloading starlette-0.38.4-py3-none-any.whl (71 kB)\n",
      "   ---------------------------------------- 0.0/71.4 kB ? eta -:--:--\n",
      "   ---------------------------------------- 71.4/71.4 kB ? eta 0:00:00\n",
      "Downloading websockets-12.0-cp311-cp311-win_amd64.whl (124 kB)\n",
      "   ---------------------------------------- 0.0/125.0 kB ? eta -:--:--\n",
      "   ---------------------------------------- 125.0/125.0 kB 7.2 MB/s eta 0:00:00\n",
      "Installing collected packages: pydub, websockets, tomlkit, ruff, python-multipart, orjson, h11, ffmpy, aiofiles, uvicorn, starlette, httpcore, httpx, fastapi, gradio-client, gradio\n",
      "Successfully installed aiofiles-23.2.1 fastapi-0.112.4 ffmpy-0.4.0 gradio-4.43.0 gradio-client-1.3.0 h11-0.14.0 httpcore-1.0.5 httpx-0.27.2 orjson-3.10.7 pydub-0.25.1 python-multipart-0.0.9 ruff-0.6.4 starlette-0.38.4 tomlkit-0.12.0 uvicorn-0.30.6 websockets-12.0\n"
     ]
    },
    {
     "name": "stderr",
     "output_type": "stream",
     "text": [
      "  WARNING: The script uvicorn.exe is installed in 'C:\\Users\\urios\\AppData\\Roaming\\Python\\Python311\\Scripts' which is not on PATH.\n",
      "  Consider adding this directory to PATH or, if you prefer to suppress this warning, use --no-warn-script-location.\n",
      "  WARNING: The script httpx.exe is installed in 'C:\\Users\\urios\\AppData\\Roaming\\Python\\Python311\\Scripts' which is not on PATH.\n",
      "  Consider adding this directory to PATH or, if you prefer to suppress this warning, use --no-warn-script-location.\n",
      "  WARNING: The script fastapi.exe is installed in 'C:\\Users\\urios\\AppData\\Roaming\\Python\\Python311\\Scripts' which is not on PATH.\n",
      "  Consider adding this directory to PATH or, if you prefer to suppress this warning, use --no-warn-script-location.\n",
      "  WARNING: The scripts gradio.exe and upload_theme.exe are installed in 'C:\\Users\\urios\\AppData\\Roaming\\Python\\Python311\\Scripts' which is not on PATH.\n",
      "  Consider adding this directory to PATH or, if you prefer to suppress this warning, use --no-warn-script-location.\n",
      "ERROR: pip's dependency resolver does not currently take into account all the packages that are installed. This behaviour is the source of the following dependency conflicts.\n",
      "snowflake-connector-python 3.10.1 requires cryptography<43.0.0,>=3.1.0, which is not installed.\n",
      "snowflake-connector-python 3.10.1 requires pyjwt<3.0.0, which is not installed.\n",
      "snowflake-connector-python 3.10.1 requires pyOpenSSL<25.0.0,>=16.2.0, which is not installed.\n",
      "snowflake-connector-python 3.10.1 requires sortedcontainers>=2.4.0, which is not installed.\n",
      "\n",
      "[notice] A new release of pip is available: 24.1.2 -> 24.2\n",
      "[notice] To update, run: python.exe -m pip install --upgrade pip\n"
     ]
    }
   ],
   "source": [
    "#!pip install gradio"
   ]
  },
  {
   "cell_type": "code",
   "execution_count": 2,
   "metadata": {},
   "outputs": [
    {
     "name": "stdout",
     "output_type": "stream",
     "text": [
      "Running on local URL:  http://127.0.0.1:7860\n",
      "\n",
      "To create a public link, set `share=True` in `launch()`.\n"
     ]
    },
    {
     "data": {
      "text/html": [
       "<div><iframe src=\"http://127.0.0.1:7860/\" width=\"100%\" height=\"500\" allow=\"autoplay; camera; microphone; clipboard-read; clipboard-write;\" frameborder=\"0\" allowfullscreen></iframe></div>"
      ],
      "text/plain": [
       "<IPython.core.display.HTML object>"
      ]
     },
     "metadata": {},
     "output_type": "display_data"
    },
    {
     "data": {
      "text/plain": []
     },
     "execution_count": 2,
     "metadata": {},
     "output_type": "execute_result"
    }
   ],
   "source": [
    "import gradio as gr\n",
    "\n",
    "def greet(name, intensity):\n",
    "    return \"Hello, \" + name + \"!\" * int(intensity)\n",
    "\n",
    "demo = gr.Interface(\n",
    "    fn=greet,\n",
    "    inputs=[\"text\", \"slider\"],\n",
    "    outputs=[\"text\"],\n",
    ")\n",
    "\n",
    "demo.launch()"
   ]
  },
  {
   "cell_type": "markdown",
   "metadata": {},
   "source": [
    "Pero como veis se trata de un servicio desplegado que emplea el puerto 7860 para publicar nuestra aplicación. Siempre dispone de un botón Submit ya que entiende que se trata de una aplicación que recibe algo de información y publica una respuesta.\n",
    "\n",
    "En este mismo puerto se expone una API destinada al consumo programático del mismo recurso."
   ]
  },
  {
   "cell_type": "code",
   "execution_count": 3,
   "metadata": {},
   "outputs": [
    {
     "name": "stdout",
     "output_type": "stream",
     "text": [
      "Loaded as API: http://127.0.0.1:7860/ ✔\n",
      "Hello, iraitz!!!\n"
     ]
    }
   ],
   "source": [
    "from gradio_client import Client\n",
    "\n",
    "client = Client(\"http://127.0.0.1:7860/\")\n",
    "result = client.predict(\n",
    "\t\tname=\"iraitz\",\n",
    "\t\tintensity=3,\n",
    "\t\tapi_name=\"/predict\"\n",
    ")\n",
    "print(result)"
   ]
  },
  {
   "cell_type": "markdown",
   "metadata": {},
   "source": [
    "De modo que es muy sencillo contar con una aplicación que nos de las piezas básicas necesarias a la hora de exponer un modelo capaz de predecir o clasificar una muestra. Tenéis una guía sencilla de uso en la siguiente ubicación:\n",
    "\n",
    "https://www.machinelearningnuggets.com/gradio-tutorial/\n",
    "\n",
    "No os olvidéis de parar el servidor para que no consuma recursos o se quede como un proceso zombie en vuestra máquina."
   ]
  },
  {
   "cell_type": "code",
   "execution_count": 5,
   "metadata": {},
   "outputs": [
    {
     "name": "stdout",
     "output_type": "stream",
     "text": [
      "Closing server running on port: 7860\n"
     ]
    }
   ],
   "source": [
    "demo.close()"
   ]
  }
 ],
 "metadata": {
  "kernelspec": {
   "display_name": ".venv",
   "language": "python",
   "name": "python3"
  },
  "language_info": {
   "codemirror_mode": {
    "name": "ipython",
    "version": 3
   },
   "file_extension": ".py",
   "mimetype": "text/x-python",
   "name": "python",
   "nbconvert_exporter": "python",
   "pygments_lexer": "ipython3",
   "version": "3.11.9"
  }
 },
 "nbformat": 4,
 "nbformat_minor": 2
}
