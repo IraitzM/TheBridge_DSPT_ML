{
 "cells": [
  {
   "attachments": {},
   "cell_type": "markdown",
   "metadata": {
    "id": "Jz0lXaFOE5KX"
   },
   "source": [
    "## Introducción\n",
    "\n",
    "Según el [artículo](https://research.fb.com/prophet-forecasting-at-scale/) de Facebook Research, Prophet se desarrolló inicialmente con el propósito de crear previsiones empresariales de alta calidad. Esta biblioteca trata de abordar las siguientes dificultades comunes a muchas series temporales empresariales:\n",
    "- Efectos estacionales causados por el comportamiento humano: ciclos semanales, mensuales y anuales, caídas y picos en días festivos.\n",
    "- Cambios de tendencia debidos a nuevos productos y acontecimientos del mercado.\n",
    "- Valores atípicos.\n",
    "\n",
    "Los autores afirman que, incluso con la configuración por defecto, en muchos casos su biblioteca produce previsiones tan precisas como las de analistas experimentados.\n",
    "\n",
    "Además, Prophet dispone de una serie de personalizaciones intuitivas y fácilmente interpretables que permiten mejorar gradualmente la calidad del modelo de previsión. Lo que es especialmente importante, estos parámetros son bastante comprensibles incluso para los no expertos en análisis de series temporales, que es un campo de la ciencia de datos que requiere cierta habilidad y experiencia.\n",
    "\n",
    "Por cierto, el artículo original se titula «Forecasting at Scale», pero no trata de la escala en el sentido «habitual», es decir, abordar los problemas computacionales y de infraestructura de un gran número de programas en funcionamiento. Según los autores, Prophet debe escalar bien en las 3 áreas siguientes:\n",
    "- Accesibilidad a un amplio público de analistas, posiblemente sin profundos conocimientos en series temporales.\n",
    "- Aplicabilidad a una amplia gama de problemas de previsión distintos.\n",
    "- Estimación automatizada del rendimiento de un gran número de previsiones, incluida la señalización de problemas potenciales para su posterior inspección por parte del analista."
   ]
  },
  {
   "attachments": {},
   "cell_type": "markdown",
   "metadata": {
    "id": "ARfg0Il6E5KY"
   },
   "source": [
    "## El modelo de previsión de Prophet\n",
    "\n",
    "Veamos ahora con más detalle cómo funciona Prophet. En su esencia, esta biblioteca utiliza el [modelo de regresión aditiva](https://en.wikipedia.org/wiki/Additive_model) $y(t)$ que comprende los siguientes componentes:\n",
    "\n",
    "$$y(t) = g(t) + s(t) + h(t) + \\epsilon_{t},$$\n",
    "\n",
    "donde:\n",
    "* La tendencia $g(t)$ modela los cambios no periódicos.\n",
    "* La estacionalidad $s(t)$ representa los cambios periódicos.\n",
    "* El componente de vacaciones $h(t)$ aporta información sobre vacaciones y eventos.\n",
    "\n",
    "A continuación, consideraremos algunas propiedades importantes de estos componentes del modelo."
   ]
  },
  {
   "attachments": {},
   "cell_type": "markdown",
   "metadata": {
    "id": "xLnC-LflE5KY"
   },
   "source": [
    "### Tendencia\n",
    "\n",
    "La biblioteca Prophet implementa dos posibles modelos de tendencia para $g(t)$.\n",
    "\n",
    "El primero se llama *Nonlinear, Saturating Growth*. Se representa en la forma del [modelo de crecimiento logístico](https://en.wikipedia.org/wiki/Logistic_function):\n",
    "\n",
    "$$g(t) = \\frac{C}{1+e^{-k(t - m)}},$$\n",
    "\n",
    "donde:\n",
    "* $C$ es la capacidad de carga (es decir, el valor máximo de la curva).\n",
    "* $k$ es la tasa de crecimiento (que representa «la inclinación» de la curva).\n",
    "* $m$ es un parámetro de compensación.\n",
    "\n",
    "Esta ecuación logística permite modelizar el crecimiento no lineal con saturación, es decir, cuando la tasa de crecimiento de un valor disminuye con su crecimiento. Uno de los ejemplos típicos sería representar el crecimiento de la audiencia de una aplicación o una página web.\n",
    "\n",
    "En realidad, $C$ y $k$ no son necesariamente constantes y pueden variar con el tiempo. Prophet admite tanto el ajuste automático como el manual de su variabilidad. La biblioteca puede elegir por sí misma los puntos óptimos de los cambios de tendencia ajustándose a los datos históricos suministrados. \n",
    "\n",
    "Además, Prophet permite a los analistas fijar manualmente los puntos de cambio de los valores de la tasa de crecimiento y la capacidad en distintos momentos del tiempo. Por ejemplo, los analistas pueden tener información sobre fechas de lanzamientos pasados que influyeron de forma destacada en algunos indicadores clave del producto.\n",
    "\n",
    "El segundo modelo de tendencia es un simple *Modelo lineal por partes* con una tasa de crecimiento constante. Es el más adecuado para problemas sin crecimiento saturado."
   ]
  },
  {
   "attachments": {},
   "cell_type": "markdown",
   "metadata": {
    "id": "V5Mwbbr8E5KZ"
   },
   "source": [
    "### Estacionalidad\n",
    "\n",
    "El componente estacional $s(t)$ proporciona un modelo flexible de los cambios periódicos debidos a la estacionalidad semanal y anual.\n",
    "\n",
    "Los datos estacionales semanales se modelan con variables ficticias. Se añaden seis nuevas variables: `monday`, `tuesday`, `wednesday`, `thursday`, `friday`, `saturday`, que toman valores 0 ó 1 según el día de la semana. La característica «domingo» no se añade porque sería una combinación lineal de los demás días de la semana, y este hecho tendría un efecto adverso en el modelo.\n",
    "\n",
    "El modelo de estacionalidad anual de Prophet se basa en series de Fourier.\n",
    "\n",
    "Desde la [versión 0.2](https://github.com/facebook/prophet) también puede utilizar *sub-series temporales diarias* y realizar *previsiones subdiarias*, así como emplear la nueva función de *estacionalidad diaria*."
   ]
  },
  {
   "attachments": {},
   "cell_type": "markdown",
   "metadata": {
    "id": "QMnfe-G0E5KZ"
   },
   "source": [
    "### Días festivos y eventos\n",
    "\n",
    "El componente $h(t)$ representa los días anormales previsibles del año, incluidos los de calendario irregular, por ejemplo, los Viernes Negros.\n",
    "\n",
    "Para utilizar esta función, el analista debe proporcionar una lista personalizada de eventos."
   ]
  },
  {
   "attachments": {},
   "cell_type": "markdown",
   "metadata": {
    "id": "KPPTsUBZE5Ka"
   },
   "source": [
    "### Error\n",
    "\n",
    "El término de error $\\epsilon(t)$ representa información no reflejada en el modelo. Normalmente se modela como ruido distribuido normalmente."
   ]
  },
  {
   "attachments": {},
   "cell_type": "markdown",
   "metadata": {
    "id": "YFc28oD7E5Ka"
   },
   "source": [
    "### Prophet Benchmarking\n",
    "\n",
    "Para una descripción detallada del modelo y los algoritmos de Prophet, consulte el artículo [«Forecasting at scale»](https://peerj.com/preprints/3190/) de Sean J. Taylor y Benjamin Letham.\n",
    "\n",
    "Los autores también compararon su biblioteca con otros métodos de previsión de series temporales. Utilizaron [Mean Absolute Percentage Error (MAPE)](https://en.wikipedia.org/wiki/Mean_absolute_percentage_error) como medida de la precisión de la predicción. En esta investigación, Prophet ha mostrado un error de previsión sustancialmente menor que los otros modelos."
   ]
  },
  {
   "attachments": {},
   "cell_type": "markdown",
   "metadata": {
    "id": "NzoU__ozE5Kb"
   },
   "source": [
    "<img src=\"https://mlcourse.ai/_static/img/topic9_benchmarking_prophet.png\" />"
   ]
  },
  {
   "attachments": {},
   "cell_type": "markdown",
   "metadata": {
    "id": "kZJZ3ySNE5Kb"
   },
   "source": [
    "Veamos con más detalle cómo se ha medido la calidad de las previsiones en el artículo. Para ello, necesitaremos la fórmula del error porcentual absoluto medio.\n",
    "\n",
    "Sea $y_{i}$ el *valor real (histórico)* y $\\hat{y}_{i}$ el *valor previsto* por nuestro modelo.\n",
    "\n",
    "A continuación, $e_{i} = y_{i} - \\hat{y}_{i}$ es el *error de previsión* y $p_{i} = \\frac{e_{i}}{y_{i}}$ es el *error relativo de previsión*.\n",
    "\n",
    "Definimos\n",
    "\n",
    "$$MAPE = mean\\big(\\left |p_{i} \\right |\\big)$$\n",
    "\n",
    "MAPE se utiliza ampliamente como medida de la precisión de la predicción porque expresa el error como porcentaje y, por tanto, puede utilizarse en evaluaciones de modelos en diferentes conjuntos de datos.\n",
    "\n",
    "Además, al evaluar un algoritmo de predicción, puede resultar útil calcular [MAE (Error Medio Absoluto)](https://en.wikipedia.org/wiki/Mean_absolute_error) para tener una idea de los errores en números absolutos. Utilizando los componentes definidos anteriormente, su ecuación será\n",
    "\n",
    "$$MAE = mean\\big(\\left |e_{i}\\right |\\big)$$"
   ]
  },
  {
   "attachments": {},
   "cell_type": "markdown",
   "metadata": {
    "id": "Pdk75ZfxE5Kc"
   },
   "source": [
    "Unas palabras sobre los algoritmos con los que se comparó Prophet. La mayoría de ellos son bastante sencillos y suelen utilizarse como referencia para otros modelos:\n",
    "* `naive` (ingenuo) es un enfoque de previsión simplista en el que predecimos todos los valores futuros basándonos únicamente en la observación en el último momento disponible.\n",
    "* El modelo `snaive` (ingenuo estacional) realiza predicciones constantes teniendo en cuenta la información sobre la estacionalidad. Por ejemplo, en el caso de datos estacionales semanales, para cada lunes futuro se predeciría el valor del último lunes, y para todos los martes futuros se utilizaría el valor del último martes, y así sucesivamente.\n",
    "* `mean` utiliza el valor medio de los datos como predicción.\n",
    "* `arima` significa *Media Móvil Autorregresiva Integrada*, véase [Wikipedia](https://en.wikipedia.org/wiki/Autoregressive_integrated_moving_average) para más detalles.\n",
    "* `ets` significa *Alisamiento exponencial*, véase [Wikipedia](https://en.wikipedia.org/wiki/Exponential_smoothing) para más información."
   ]
  },
  {
   "attachments": {},
   "cell_type": "markdown",
   "metadata": {
    "id": "r6QduJTlE5Kc"
   },
   "source": [
    "## Facebook Prophet\n",
    "\n",
    "En primer lugar, es necesario instalar la biblioteca. Prophet está disponible para Python y R. La elección dependerá de tus preferencias personales y de los requisitos del proyecto. En este artículo utilizaremos Python.\n",
    "\n",
    "En Python puedes instalar Prophet usando PyPI:"
   ]
  },
  {
   "cell_type": "code",
   "execution_count": 1,
   "metadata": {},
   "outputs": [],
   "source": [
    "# !pip install prophet"
   ]
  },
  {
   "cell_type": "code",
   "execution_count": 7,
   "metadata": {},
   "outputs": [
    {
     "name": "stdout",
     "output_type": "stream",
     "text": [
      "Defaulting to user installation because normal site-packages is not writeable\n",
      "Collecting plotly\n",
      "  Downloading plotly-5.23.0-py3-none-any.whl.metadata (7.3 kB)\n",
      "Collecting tenacity>=6.2.0 (from plotly)\n",
      "  Downloading tenacity-8.5.0-py3-none-any.whl.metadata (1.2 kB)\n",
      "Requirement already satisfied: packaging in c:\\users\\urios\\appdata\\roaming\\python\\python311\\site-packages (from plotly) (23.1)\n",
      "Downloading plotly-5.23.0-py3-none-any.whl (17.3 MB)\n",
      "   ---------------------------------------- 0.0/17.3 MB ? eta -:--:--\n",
      "   ---------------------------------------- 0.0/17.3 MB ? eta -:--:--\n",
      "   ---------------------------------------- 0.0/17.3 MB ? eta -:--:--\n",
      "   ---------------------------------------- 0.1/17.3 MB 544.7 kB/s eta 0:00:32\n",
      "   ---------------------------------------- 0.2/17.3 MB 1.0 MB/s eta 0:00:17\n",
      "    --------------------------------------- 0.2/17.3 MB 1.3 MB/s eta 0:00:14\n",
      "    --------------------------------------- 0.4/17.3 MB 1.5 MB/s eta 0:00:12\n",
      "   - -------------------------------------- 0.6/17.3 MB 1.8 MB/s eta 0:00:10\n",
      "   - -------------------------------------- 0.7/17.3 MB 2.0 MB/s eta 0:00:09\n",
      "   - -------------------------------------- 0.7/17.3 MB 2.0 MB/s eta 0:00:09\n",
      "   -- ------------------------------------- 0.9/17.3 MB 2.1 MB/s eta 0:00:08\n",
      "   -- ------------------------------------- 1.0/17.3 MB 2.2 MB/s eta 0:00:08\n",
      "   -- ------------------------------------- 1.2/17.3 MB 2.3 MB/s eta 0:00:08\n",
      "   -- ------------------------------------- 1.2/17.3 MB 2.2 MB/s eta 0:00:08\n",
      "   --- ------------------------------------ 1.4/17.3 MB 2.3 MB/s eta 0:00:07\n",
      "   --- ------------------------------------ 1.5/17.3 MB 2.4 MB/s eta 0:00:07\n",
      "   --- ------------------------------------ 1.7/17.3 MB 2.4 MB/s eta 0:00:07\n",
      "   ---- ----------------------------------- 1.8/17.3 MB 2.4 MB/s eta 0:00:07\n",
      "   ---- ----------------------------------- 2.0/17.3 MB 2.5 MB/s eta 0:00:07\n",
      "   ---- ----------------------------------- 2.1/17.3 MB 2.6 MB/s eta 0:00:06\n",
      "   ----- ---------------------------------- 2.3/17.3 MB 2.7 MB/s eta 0:00:06\n",
      "   ----- ---------------------------------- 2.5/17.3 MB 2.7 MB/s eta 0:00:06\n",
      "   ------ --------------------------------- 2.7/17.3 MB 2.8 MB/s eta 0:00:06\n",
      "   ------ --------------------------------- 2.9/17.3 MB 2.9 MB/s eta 0:00:06\n",
      "   ------- -------------------------------- 3.1/17.3 MB 2.9 MB/s eta 0:00:05\n",
      "   ------- -------------------------------- 3.3/17.3 MB 3.0 MB/s eta 0:00:05\n",
      "   -------- ------------------------------- 3.5/17.3 MB 3.1 MB/s eta 0:00:05\n",
      "   -------- ------------------------------- 3.7/17.3 MB 3.2 MB/s eta 0:00:05\n",
      "   --------- ------------------------------ 3.9/17.3 MB 3.2 MB/s eta 0:00:05\n",
      "   --------- ------------------------------ 4.1/17.3 MB 3.3 MB/s eta 0:00:05\n",
      "   --------- ------------------------------ 4.2/17.3 MB 3.2 MB/s eta 0:00:05\n",
      "   ---------- ----------------------------- 4.4/17.3 MB 3.2 MB/s eta 0:00:05\n",
      "   ---------- ----------------------------- 4.7/17.3 MB 3.3 MB/s eta 0:00:04\n",
      "   ----------- ---------------------------- 4.9/17.3 MB 3.3 MB/s eta 0:00:04\n",
      "   ----------- ---------------------------- 5.1/17.3 MB 3.4 MB/s eta 0:00:04\n",
      "   ------------ --------------------------- 5.2/17.3 MB 3.4 MB/s eta 0:00:04\n",
      "   ------------ --------------------------- 5.5/17.3 MB 3.4 MB/s eta 0:00:04\n",
      "   ------------- -------------------------- 5.6/17.3 MB 3.5 MB/s eta 0:00:04\n",
      "   ------------- -------------------------- 5.9/17.3 MB 3.5 MB/s eta 0:00:04\n",
      "   -------------- ------------------------- 6.1/17.3 MB 3.5 MB/s eta 0:00:04\n",
      "   -------------- ------------------------- 6.2/17.3 MB 3.5 MB/s eta 0:00:04\n",
      "   -------------- ------------------------- 6.3/17.3 MB 3.5 MB/s eta 0:00:04\n",
      "   -------------- ------------------------- 6.4/17.3 MB 3.4 MB/s eta 0:00:04\n",
      "   --------------- ------------------------ 6.6/17.3 MB 3.4 MB/s eta 0:00:04\n",
      "   --------------- ------------------------ 6.7/17.3 MB 3.4 MB/s eta 0:00:04\n",
      "   --------------- ------------------------ 6.9/17.3 MB 3.4 MB/s eta 0:00:04\n",
      "   ---------------- ----------------------- 7.0/17.3 MB 3.4 MB/s eta 0:00:03\n",
      "   ---------------- ----------------------- 7.2/17.3 MB 3.4 MB/s eta 0:00:03\n",
      "   ---------------- ----------------------- 7.3/17.3 MB 3.4 MB/s eta 0:00:03\n",
      "   ----------------- ---------------------- 7.5/17.3 MB 3.5 MB/s eta 0:00:03\n",
      "   ----------------- ---------------------- 7.7/17.3 MB 3.4 MB/s eta 0:00:03\n",
      "   ------------------ --------------------- 7.8/17.3 MB 3.4 MB/s eta 0:00:03\n",
      "   ------------------ --------------------- 8.0/17.3 MB 3.4 MB/s eta 0:00:03\n",
      "   ------------------ --------------------- 8.0/17.3 MB 3.4 MB/s eta 0:00:03\n",
      "   ------------------ --------------------- 8.2/17.3 MB 3.4 MB/s eta 0:00:03\n",
      "   ------------------- -------------------- 8.4/17.3 MB 3.4 MB/s eta 0:00:03\n",
      "   ------------------- -------------------- 8.5/17.3 MB 3.5 MB/s eta 0:00:03\n",
      "   -------------------- ------------------- 8.7/17.3 MB 3.4 MB/s eta 0:00:03\n",
      "   -------------------- ------------------- 8.8/17.3 MB 3.4 MB/s eta 0:00:03\n",
      "   -------------------- ------------------- 8.9/17.3 MB 3.4 MB/s eta 0:00:03\n",
      "   --------------------- ------------------ 9.1/17.3 MB 3.4 MB/s eta 0:00:03\n",
      "   --------------------- ------------------ 9.2/17.3 MB 3.4 MB/s eta 0:00:03\n",
      "   --------------------- ------------------ 9.4/17.3 MB 3.4 MB/s eta 0:00:03\n",
      "   ---------------------- ----------------- 9.5/17.3 MB 3.4 MB/s eta 0:00:03\n",
      "   ---------------------- ----------------- 9.7/17.3 MB 3.4 MB/s eta 0:00:03\n",
      "   ---------------------- ----------------- 9.7/17.3 MB 3.4 MB/s eta 0:00:03\n",
      "   ---------------------- ----------------- 9.9/17.3 MB 3.4 MB/s eta 0:00:03\n",
      "   ----------------------- ---------------- 10.0/17.3 MB 3.4 MB/s eta 0:00:03\n",
      "   ----------------------- ---------------- 10.1/17.3 MB 3.4 MB/s eta 0:00:03\n",
      "   ----------------------- ---------------- 10.2/17.3 MB 3.4 MB/s eta 0:00:03\n",
      "   ----------------------- ---------------- 10.4/17.3 MB 3.5 MB/s eta 0:00:03\n",
      "   ------------------------ --------------- 10.5/17.3 MB 3.5 MB/s eta 0:00:02\n",
      "   ------------------------ --------------- 10.6/17.3 MB 3.5 MB/s eta 0:00:02\n",
      "   ------------------------ --------------- 10.8/17.3 MB 3.5 MB/s eta 0:00:02\n",
      "   ------------------------- -------------- 10.9/17.3 MB 3.5 MB/s eta 0:00:02\n",
      "   ------------------------- -------------- 11.1/17.3 MB 3.5 MB/s eta 0:00:02\n",
      "   -------------------------- ------------- 11.3/17.3 MB 3.5 MB/s eta 0:00:02\n",
      "   -------------------------- ------------- 11.4/17.3 MB 3.5 MB/s eta 0:00:02\n",
      "   -------------------------- ------------- 11.5/17.3 MB 3.5 MB/s eta 0:00:02\n",
      "   -------------------------- ------------- 11.6/17.3 MB 3.5 MB/s eta 0:00:02\n",
      "   --------------------------- ------------ 11.7/17.3 MB 3.5 MB/s eta 0:00:02\n",
      "   --------------------------- ------------ 11.8/17.3 MB 3.5 MB/s eta 0:00:02\n",
      "   --------------------------- ------------ 11.8/17.3 MB 3.4 MB/s eta 0:00:02\n",
      "   --------------------------- ------------ 11.8/17.3 MB 3.4 MB/s eta 0:00:02\n",
      "   --------------------------- ------------ 11.8/17.3 MB 3.4 MB/s eta 0:00:02\n",
      "   --------------------------- ------------ 11.8/17.3 MB 3.4 MB/s eta 0:00:02\n",
      "   --------------------------- ------------ 11.8/17.3 MB 3.4 MB/s eta 0:00:02\n",
      "   --------------------------- ------------ 11.8/17.3 MB 3.4 MB/s eta 0:00:02\n",
      "   --------------------------- ------------ 12.1/17.3 MB 3.2 MB/s eta 0:00:02\n",
      "   ----------------------------- ---------- 12.6/17.3 MB 3.3 MB/s eta 0:00:02\n",
      "   ----------------------------- ---------- 12.8/17.3 MB 3.3 MB/s eta 0:00:02\n",
      "   ----------------------------- ---------- 12.9/17.3 MB 3.3 MB/s eta 0:00:02\n",
      "   ------------------------------ --------- 13.0/17.3 MB 3.3 MB/s eta 0:00:02\n",
      "   ------------------------------ --------- 13.1/17.3 MB 3.3 MB/s eta 0:00:02\n",
      "   ------------------------------ --------- 13.2/17.3 MB 3.2 MB/s eta 0:00:02\n",
      "   ------------------------------ --------- 13.3/17.3 MB 3.2 MB/s eta 0:00:02\n",
      "   ------------------------------ --------- 13.4/17.3 MB 3.2 MB/s eta 0:00:02\n",
      "   ------------------------------- -------- 13.6/17.3 MB 3.1 MB/s eta 0:00:02\n",
      "   ------------------------------- -------- 13.7/17.3 MB 3.1 MB/s eta 0:00:02\n",
      "   ------------------------------- -------- 13.9/17.3 MB 3.1 MB/s eta 0:00:02\n",
      "   -------------------------------- ------- 13.9/17.3 MB 3.1 MB/s eta 0:00:02\n",
      "   -------------------------------- ------- 14.0/17.3 MB 3.1 MB/s eta 0:00:02\n",
      "   -------------------------------- ------- 14.2/17.3 MB 3.1 MB/s eta 0:00:02\n",
      "   --------------------------------- ------ 14.3/17.3 MB 3.0 MB/s eta 0:00:01\n",
      "   --------------------------------- ------ 14.5/17.3 MB 3.1 MB/s eta 0:00:01\n",
      "   --------------------------------- ------ 14.7/17.3 MB 3.1 MB/s eta 0:00:01\n",
      "   ---------------------------------- ----- 14.8/17.3 MB 3.0 MB/s eta 0:00:01\n",
      "   ---------------------------------- ----- 14.9/17.3 MB 3.0 MB/s eta 0:00:01\n",
      "   ---------------------------------- ----- 15.0/17.3 MB 3.0 MB/s eta 0:00:01\n",
      "   ---------------------------------- ----- 15.2/17.3 MB 3.0 MB/s eta 0:00:01\n",
      "   ----------------------------------- ---- 15.3/17.3 MB 3.0 MB/s eta 0:00:01\n",
      "   ----------------------------------- ---- 15.4/17.3 MB 3.0 MB/s eta 0:00:01\n",
      "   ----------------------------------- ---- 15.5/17.3 MB 3.0 MB/s eta 0:00:01\n",
      "   ------------------------------------ --- 15.7/17.3 MB 2.9 MB/s eta 0:00:01\n",
      "   ------------------------------------ --- 15.8/17.3 MB 2.9 MB/s eta 0:00:01\n",
      "   ------------------------------------ --- 16.0/17.3 MB 2.9 MB/s eta 0:00:01\n",
      "   ------------------------------------- -- 16.1/17.3 MB 2.9 MB/s eta 0:00:01\n",
      "   ------------------------------------- -- 16.3/17.3 MB 2.9 MB/s eta 0:00:01\n",
      "   ------------------------------------- -- 16.4/17.3 MB 2.9 MB/s eta 0:00:01\n",
      "   -------------------------------------- - 16.5/17.3 MB 2.9 MB/s eta 0:00:01\n",
      "   -------------------------------------- - 16.7/17.3 MB 2.9 MB/s eta 0:00:01\n",
      "   -------------------------------------- - 16.9/17.3 MB 2.9 MB/s eta 0:00:01\n",
      "   ---------------------------------------  17.0/17.3 MB 2.9 MB/s eta 0:00:01\n",
      "   ---------------------------------------  17.0/17.3 MB 2.9 MB/s eta 0:00:01\n",
      "   ---------------------------------------  17.2/17.3 MB 2.9 MB/s eta 0:00:01\n",
      "   ---------------------------------------  17.3/17.3 MB 2.9 MB/s eta 0:00:01\n",
      "   ---------------------------------------  17.3/17.3 MB 2.9 MB/s eta 0:00:01\n",
      "   ---------------------------------------- 17.3/17.3 MB 2.8 MB/s eta 0:00:00\n",
      "Downloading tenacity-8.5.0-py3-none-any.whl (28 kB)\n",
      "Installing collected packages: tenacity, plotly\n",
      "Successfully installed plotly-5.23.0 tenacity-8.5.0\n"
     ]
    }
   ],
   "source": [
    "!pip install plotly"
   ]
  },
  {
   "cell_type": "code",
   "execution_count": 1,
   "metadata": {
    "id": "-ksf_V_uE5Kd"
   },
   "outputs": [],
   "source": [
    "import warnings\n",
    "warnings.filterwarnings('ignore')\n",
    "\n",
    "import numpy as np\n",
    "import pandas as pd\n",
    "from scipy import stats\n",
    "import statsmodels.api as sm\n",
    "import matplotlib.pyplot as plt\n",
    "import plotly\n",
    "\n",
    "%matplotlib inline"
   ]
  },
  {
   "attachments": {},
   "cell_type": "markdown",
   "metadata": {
    "id": "VVwIaHxGE5Kg"
   },
   "source": [
    "### Dataset\n",
    "\n",
    "Emplearemos los conjuntos de datos vistos anteriormente."
   ]
  },
  {
   "cell_type": "code",
   "execution_count": 2,
   "metadata": {},
   "outputs": [
    {
     "data": {
      "text/html": [
       "<div>\n",
       "<style scoped>\n",
       "    .dataframe tbody tr th:only-of-type {\n",
       "        vertical-align: middle;\n",
       "    }\n",
       "\n",
       "    .dataframe tbody tr th {\n",
       "        vertical-align: top;\n",
       "    }\n",
       "\n",
       "    .dataframe thead th {\n",
       "        text-align: right;\n",
       "    }\n",
       "</style>\n",
       "<table border=\"1\" class=\"dataframe\">\n",
       "  <thead>\n",
       "    <tr style=\"text-align: right;\">\n",
       "      <th></th>\n",
       "      <th>date</th>\n",
       "      <th>value</th>\n",
       "    </tr>\n",
       "  </thead>\n",
       "  <tbody>\n",
       "    <tr>\n",
       "      <th>0</th>\n",
       "      <td>1991-07-01</td>\n",
       "      <td>3.526591</td>\n",
       "    </tr>\n",
       "    <tr>\n",
       "      <th>1</th>\n",
       "      <td>1991-08-01</td>\n",
       "      <td>3.180891</td>\n",
       "    </tr>\n",
       "    <tr>\n",
       "      <th>2</th>\n",
       "      <td>1991-09-01</td>\n",
       "      <td>3.252221</td>\n",
       "    </tr>\n",
       "    <tr>\n",
       "      <th>3</th>\n",
       "      <td>1991-10-01</td>\n",
       "      <td>3.611003</td>\n",
       "    </tr>\n",
       "    <tr>\n",
       "      <th>4</th>\n",
       "      <td>1991-11-01</td>\n",
       "      <td>3.565869</td>\n",
       "    </tr>\n",
       "    <tr>\n",
       "      <th>...</th>\n",
       "      <td>...</td>\n",
       "      <td>...</td>\n",
       "    </tr>\n",
       "    <tr>\n",
       "      <th>199</th>\n",
       "      <td>2008-02-01</td>\n",
       "      <td>21.654285</td>\n",
       "    </tr>\n",
       "    <tr>\n",
       "      <th>200</th>\n",
       "      <td>2008-03-01</td>\n",
       "      <td>18.264945</td>\n",
       "    </tr>\n",
       "    <tr>\n",
       "      <th>201</th>\n",
       "      <td>2008-04-01</td>\n",
       "      <td>23.107677</td>\n",
       "    </tr>\n",
       "    <tr>\n",
       "      <th>202</th>\n",
       "      <td>2008-05-01</td>\n",
       "      <td>22.912510</td>\n",
       "    </tr>\n",
       "    <tr>\n",
       "      <th>203</th>\n",
       "      <td>2008-06-01</td>\n",
       "      <td>19.431740</td>\n",
       "    </tr>\n",
       "  </tbody>\n",
       "</table>\n",
       "<p>204 rows × 2 columns</p>\n",
       "</div>"
      ],
      "text/plain": [
       "           date      value\n",
       "0    1991-07-01   3.526591\n",
       "1    1991-08-01   3.180891\n",
       "2    1991-09-01   3.252221\n",
       "3    1991-10-01   3.611003\n",
       "4    1991-11-01   3.565869\n",
       "..          ...        ...\n",
       "199  2008-02-01  21.654285\n",
       "200  2008-03-01  18.264945\n",
       "201  2008-04-01  23.107677\n",
       "202  2008-05-01  22.912510\n",
       "203  2008-06-01  19.431740\n",
       "\n",
       "[204 rows x 2 columns]"
      ]
     },
     "execution_count": 2,
     "metadata": {},
     "output_type": "execute_result"
    }
   ],
   "source": [
    "df = pd.read_csv('data/a10.csv')\n",
    "df"
   ]
  },
  {
   "cell_type": "code",
   "execution_count": 3,
   "metadata": {
    "id": "aijp2HDBE5Kl"
   },
   "outputs": [],
   "source": [
    "df['date'] = pd.to_datetime(df['date'])"
   ]
  },
  {
   "attachments": {},
   "cell_type": "markdown",
   "metadata": {
    "id": "sbcoxKhbE5K4"
   },
   "source": [
    "### Análisis visual exploratorio\n",
    "\n",
    "Como siempre, puede resultar útil e instructivo observar una representación gráfica de los datos.\n",
    "\n",
    "Crearemos un gráfico de series temporales para todo el intervalo de tiempo. La visualización de los datos durante un periodo de tiempo tan largo puede dar pistas sobre la estacionalidad y las desviaciones anormales llamativas."
   ]
  },
  {
   "cell_type": "code",
   "execution_count": 4,
   "metadata": {},
   "outputs": [
    {
     "data": {
      "image/png": "[encoded data removed]",
      "text/plain": [
       "<Figure size 1600x500 with 1 Axes>"
      ]
     },
     "metadata": {},
     "output_type": "display_data"
    }
   ],
   "source": [
    "import matplotlib.pyplot as plt\n",
    "\n",
    "# Draw Plot\n",
    "def plot_df(df, x, y, title=\"\", xlabel='Date', ylabel='Value', dpi=100):\n",
    "    plt.figure(figsize=(16,5), dpi=dpi)\n",
    "    plt.plot(x, y, color='tab:red')\n",
    "    plt.gca().set(title=title, xlabel=xlabel, ylabel=ylabel)\n",
    "    plt.show()\n",
    "\n",
    "plot_df(df, x=df.index, y=df.value, title='Monthly anti-diabetic drug sales in Australia from 1992 to 2008.') "
   ]
  },
  {
   "attachments": {},
   "cell_type": "markdown",
   "metadata": {
    "id": "wSM0CpT2E5LF"
   },
   "source": [
    "### Hacer una predicción\n",
    "\n",
    "La API de Prophet es muy similar a la que puedes encontrar en `sklearn`. Primero creamos un modelo, luego llamamos al método `fit`, y, finalmente, hacemos una previsión. La entrada del método `fit` es un `DataFrame` con dos columnas:\n",
    "* `ds` (datestamp) debe ser de tipo `date` o `datetime`.\n",
    "* Y es un valor numérico que queremos predecir.\n",
    "\n",
    "Para empezar, importaremos la librería y silenciaremos los mensajes de diagnóstico sin importancia:"
   ]
  },
  {
   "cell_type": "code",
   "execution_count": 5,
   "metadata": {
    "id": "_qHrYm65E5LF"
   },
   "outputs": [],
   "source": [
    "from prophet import Prophet"
   ]
  },
  {
   "attachments": {},
   "cell_type": "markdown",
   "metadata": {
    "id": "LX2ATVT6E5LH"
   },
   "source": [
    "Let's convert our dataframe to the format required by Prophet:"
   ]
  },
  {
   "cell_type": "code",
   "execution_count": 6,
   "metadata": {},
   "outputs": [
    {
     "data": {
      "text/html": [
       "<div>\n",
       "<style scoped>\n",
       "    .dataframe tbody tr th:only-of-type {\n",
       "        vertical-align: middle;\n",
       "    }\n",
       "\n",
       "    .dataframe tbody tr th {\n",
       "        vertical-align: top;\n",
       "    }\n",
       "\n",
       "    .dataframe thead th {\n",
       "        text-align: right;\n",
       "    }\n",
       "</style>\n",
       "<table border=\"1\" class=\"dataframe\">\n",
       "  <thead>\n",
       "    <tr style=\"text-align: right;\">\n",
       "      <th></th>\n",
       "      <th>date</th>\n",
       "      <th>value</th>\n",
       "    </tr>\n",
       "  </thead>\n",
       "  <tbody>\n",
       "    <tr>\n",
       "      <th>0</th>\n",
       "      <td>1991-07-01</td>\n",
       "      <td>3.526591</td>\n",
       "    </tr>\n",
       "    <tr>\n",
       "      <th>1</th>\n",
       "      <td>1991-08-01</td>\n",
       "      <td>3.180891</td>\n",
       "    </tr>\n",
       "    <tr>\n",
       "      <th>2</th>\n",
       "      <td>1991-09-01</td>\n",
       "      <td>3.252221</td>\n",
       "    </tr>\n",
       "    <tr>\n",
       "      <th>3</th>\n",
       "      <td>1991-10-01</td>\n",
       "      <td>3.611003</td>\n",
       "    </tr>\n",
       "    <tr>\n",
       "      <th>4</th>\n",
       "      <td>1991-11-01</td>\n",
       "      <td>3.565869</td>\n",
       "    </tr>\n",
       "    <tr>\n",
       "      <th>...</th>\n",
       "      <td>...</td>\n",
       "      <td>...</td>\n",
       "    </tr>\n",
       "    <tr>\n",
       "      <th>199</th>\n",
       "      <td>2008-02-01</td>\n",
       "      <td>21.654285</td>\n",
       "    </tr>\n",
       "    <tr>\n",
       "      <th>200</th>\n",
       "      <td>2008-03-01</td>\n",
       "      <td>18.264945</td>\n",
       "    </tr>\n",
       "    <tr>\n",
       "      <th>201</th>\n",
       "      <td>2008-04-01</td>\n",
       "      <td>23.107677</td>\n",
       "    </tr>\n",
       "    <tr>\n",
       "      <th>202</th>\n",
       "      <td>2008-05-01</td>\n",
       "      <td>22.912510</td>\n",
       "    </tr>\n",
       "    <tr>\n",
       "      <th>203</th>\n",
       "      <td>2008-06-01</td>\n",
       "      <td>19.431740</td>\n",
       "    </tr>\n",
       "  </tbody>\n",
       "</table>\n",
       "<p>204 rows × 2 columns</p>\n",
       "</div>"
      ],
      "text/plain": [
       "          date      value\n",
       "0   1991-07-01   3.526591\n",
       "1   1991-08-01   3.180891\n",
       "2   1991-09-01   3.252221\n",
       "3   1991-10-01   3.611003\n",
       "4   1991-11-01   3.565869\n",
       "..         ...        ...\n",
       "199 2008-02-01  21.654285\n",
       "200 2008-03-01  18.264945\n",
       "201 2008-04-01  23.107677\n",
       "202 2008-05-01  22.912510\n",
       "203 2008-06-01  19.431740\n",
       "\n",
       "[204 rows x 2 columns]"
      ]
     },
     "execution_count": 6,
     "metadata": {},
     "output_type": "execute_result"
    }
   ],
   "source": [
    "df"
   ]
  },
  {
   "cell_type": "code",
   "execution_count": 7,
   "metadata": {
    "colab": {
     "base_uri": "https://localhost:8080/",
     "height": 196
    },
    "id": "jnoaiEFEE5LH",
    "outputId": "3a7330c2-5629-455e-c9d0-f03958e20edc"
   },
   "outputs": [
    {
     "data": {
      "text/html": [
       "<div>\n",
       "<style scoped>\n",
       "    .dataframe tbody tr th:only-of-type {\n",
       "        vertical-align: middle;\n",
       "    }\n",
       "\n",
       "    .dataframe tbody tr th {\n",
       "        vertical-align: top;\n",
       "    }\n",
       "\n",
       "    .dataframe thead th {\n",
       "        text-align: right;\n",
       "    }\n",
       "</style>\n",
       "<table border=\"1\" class=\"dataframe\">\n",
       "  <thead>\n",
       "    <tr style=\"text-align: right;\">\n",
       "      <th></th>\n",
       "      <th>ds</th>\n",
       "      <th>y</th>\n",
       "    </tr>\n",
       "  </thead>\n",
       "  <tbody>\n",
       "    <tr>\n",
       "      <th>201</th>\n",
       "      <td>2008-04-01</td>\n",
       "      <td>23.107677</td>\n",
       "    </tr>\n",
       "    <tr>\n",
       "      <th>202</th>\n",
       "      <td>2008-05-01</td>\n",
       "      <td>22.912510</td>\n",
       "    </tr>\n",
       "    <tr>\n",
       "      <th>203</th>\n",
       "      <td>2008-06-01</td>\n",
       "      <td>19.431740</td>\n",
       "    </tr>\n",
       "  </tbody>\n",
       "</table>\n",
       "</div>"
      ],
      "text/plain": [
       "            ds          y\n",
       "201 2008-04-01  23.107677\n",
       "202 2008-05-01  22.912510\n",
       "203 2008-06-01  19.431740"
      ]
     },
     "execution_count": 7,
     "metadata": {},
     "output_type": "execute_result"
    }
   ],
   "source": [
    "df.columns = ['ds', 'y']\n",
    "df.tail(n=3)"
   ]
  },
  {
   "attachments": {},
   "cell_type": "markdown",
   "metadata": {
    "id": "IjBHyMivE5LJ"
   },
   "source": [
    "Los autores de la biblioteca suelen aconsejar hacer predicciones basadas en al menos varios meses, e idealmente, más de un año de datos históricos. Por suerte, en nuestro caso tenemos más de un par de años de datos para ajustar el modelo.\n",
    "\n",
    "Para medir la calidad de nuestra previsión, tenemos que dividir nuestro conjunto de datos en la *parte histórica*, que es la primera y mayor porción de nuestros datos, y la *parte de predicción*, que se situará al final de la línea temporal. Eliminaremos el último mes del conjunto de datos para utilizarlo posteriormente como objetivo de predicción:"
   ]
  },
  {
   "cell_type": "code",
   "execution_count": 8,
   "metadata": {
    "id": "Q1FjuduyE5LJ",
    "outputId": "aeb82376-c80e-44b5-b506-53010382b556"
   },
   "outputs": [
    {
     "data": {
      "text/html": [
       "<div>\n",
       "<style scoped>\n",
       "    .dataframe tbody tr th:only-of-type {\n",
       "        vertical-align: middle;\n",
       "    }\n",
       "\n",
       "    .dataframe tbody tr th {\n",
       "        vertical-align: top;\n",
       "    }\n",
       "\n",
       "    .dataframe thead th {\n",
       "        text-align: right;\n",
       "    }\n",
       "</style>\n",
       "<table border=\"1\" class=\"dataframe\">\n",
       "  <thead>\n",
       "    <tr style=\"text-align: right;\">\n",
       "      <th></th>\n",
       "      <th>ds</th>\n",
       "      <th>y</th>\n",
       "    </tr>\n",
       "  </thead>\n",
       "  <tbody>\n",
       "    <tr>\n",
       "      <th>171</th>\n",
       "      <td>2005-10-01</td>\n",
       "      <td>17.496668</td>\n",
       "    </tr>\n",
       "    <tr>\n",
       "      <th>172</th>\n",
       "      <td>2005-11-01</td>\n",
       "      <td>19.347265</td>\n",
       "    </tr>\n",
       "    <tr>\n",
       "      <th>173</th>\n",
       "      <td>2005-12-01</td>\n",
       "      <td>20.031291</td>\n",
       "    </tr>\n",
       "  </tbody>\n",
       "</table>\n",
       "</div>"
      ],
      "text/plain": [
       "            ds          y\n",
       "171 2005-10-01  17.496668\n",
       "172 2005-11-01  19.347265\n",
       "173 2005-12-01  20.031291"
      ]
     },
     "execution_count": 8,
     "metadata": {},
     "output_type": "execute_result"
    }
   ],
   "source": [
    "prediction_size = 30\n",
    "train_df = df[:-prediction_size]\n",
    "train_df.tail(n=3)"
   ]
  },
  {
   "attachments": {},
   "cell_type": "markdown",
   "metadata": {
    "id": "EWW-2ZffE5LL"
   },
   "source": [
    "Ahora necesitamos crear un nuevo objeto `Prophet`. Aquí podemos pasar los parámetros del modelo en el constructor. Pero en este artículo vamos a utilizar los valores por defecto. Luego entrenamos nuestro modelo invocando su método `fit` en nuestro conjunto de datos de entrenamiento:"
   ]
  },
  {
   "cell_type": "code",
   "execution_count": 9,
   "metadata": {
    "id": "ElpttBXBE5LL",
    "scrolled": true
   },
   "outputs": [
    {
     "ename": "AttributeError",
     "evalue": "'Prophet' object has no attribute 'stan_backend'",
     "output_type": "error",
     "traceback": [
      "\u001b[1;31m---------------------------------------------------------------------------\u001b[0m",
      "\u001b[1;31mAttributeError\u001b[0m                            Traceback (most recent call last)",
      "Cell \u001b[1;32mIn[9], line 1\u001b[0m\n\u001b[1;32m----> 1\u001b[0m m \u001b[38;5;241m=\u001b[39m \u001b[43mProphet\u001b[49m\u001b[43m(\u001b[49m\u001b[43m)\u001b[49m\n\u001b[0;32m      2\u001b[0m m\u001b[38;5;241m.\u001b[39mfit(train_df);\n",
      "File \u001b[1;32m~\\AppData\\Roaming\\Python\\Python311\\site-packages\\prophet\\forecaster.py:155\u001b[0m, in \u001b[0;36mProphet.__init__\u001b[1;34m(self, growth, changepoints, n_changepoints, changepoint_range, yearly_seasonality, weekly_seasonality, daily_seasonality, holidays, seasonality_mode, seasonality_prior_scale, holidays_prior_scale, changepoint_prior_scale, mcmc_samples, interval_width, uncertainty_samples, stan_backend, scaling, holidays_mode)\u001b[0m\n\u001b[0;32m    153\u001b[0m \u001b[38;5;28mself\u001b[39m\u001b[38;5;241m.\u001b[39mfit_kwargs \u001b[38;5;241m=\u001b[39m {}\n\u001b[0;32m    154\u001b[0m \u001b[38;5;28mself\u001b[39m\u001b[38;5;241m.\u001b[39mvalidate_inputs()\n\u001b[1;32m--> 155\u001b[0m \u001b[38;5;28;43mself\u001b[39;49m\u001b[38;5;241;43m.\u001b[39;49m\u001b[43m_load_stan_backend\u001b[49m\u001b[43m(\u001b[49m\u001b[43mstan_backend\u001b[49m\u001b[43m)\u001b[49m\n",
      "File \u001b[1;32m~\\AppData\\Roaming\\Python\\Python311\\site-packages\\prophet\\forecaster.py:168\u001b[0m, in \u001b[0;36mProphet._load_stan_backend\u001b[1;34m(self, stan_backend)\u001b[0m\n\u001b[0;32m    165\u001b[0m \u001b[38;5;28;01melse\u001b[39;00m:\n\u001b[0;32m    166\u001b[0m     \u001b[38;5;28mself\u001b[39m\u001b[38;5;241m.\u001b[39mstan_backend \u001b[38;5;241m=\u001b[39m StanBackendEnum\u001b[38;5;241m.\u001b[39mget_backend_class(stan_backend)()\n\u001b[1;32m--> 168\u001b[0m logger\u001b[38;5;241m.\u001b[39mdebug(\u001b[38;5;124m\"\u001b[39m\u001b[38;5;124mLoaded stan backend: \u001b[39m\u001b[38;5;132;01m%s\u001b[39;00m\u001b[38;5;124m\"\u001b[39m, \u001b[38;5;28;43mself\u001b[39;49m\u001b[38;5;241;43m.\u001b[39;49m\u001b[43mstan_backend\u001b[49m\u001b[38;5;241m.\u001b[39mget_type())\n",
      "\u001b[1;31mAttributeError\u001b[0m: 'Prophet' object has no attribute 'stan_backend'"
     ]
    }
   ],
   "source": [
    "m = Prophet()\n",
    "m.fit(train_df);"
   ]
  },
  {
   "attachments": {},
   "cell_type": "markdown",
   "metadata": {
    "id": "QctNFxWJE5LN"
   },
   "source": [
    "Usando el método de ayuda `Prophet.make_future_dataframe`, creamos un marco de datos que contendrá todas las fechas de la historia y también se extenderá hacia el futuro para esos 30 días que dejamos fuera antes."
   ]
  },
  {
   "cell_type": "code",
   "execution_count": null,
   "metadata": {
    "id": "l3p4-bQtE5LO",
    "outputId": "79a35655-091a-4b20-e357-6bf40bb3137a"
   },
   "outputs": [],
   "source": [
    "future = m.make_future_dataframe(periods=prediction_size)\n",
    "future.tail(n=3)"
   ]
  },
  {
   "attachments": {},
   "cell_type": "markdown",
   "metadata": {
    "id": "RunPAGZQE5LP"
   },
   "source": [
    "Predecimos valores con `Prophet` introduciendo las fechas para las que queremos crear una predicción. Si también proporcionamos las fechas históricas (como en nuestro caso), además de la predicción obtendremos un ajuste dentro de la muestra para la historia. Llamemos al método `predict` del modelo con nuestro marco de datos `future` como entrada:"
   ]
  },
  {
   "cell_type": "code",
   "execution_count": null,
   "metadata": {
    "id": "aECBUBXRE5LQ",
    "outputId": "bc0a93cb-8de3-4842-97b1-1452cfc13108"
   },
   "outputs": [],
   "source": [
    "forecast = m.predict(future)\n",
    "forecast.tail(n=3)"
   ]
  },
  {
   "attachments": {},
   "cell_type": "markdown",
   "metadata": {
    "id": "1DVgTd6VE5LR"
   },
   "source": [
    "En el marco de datos resultante puede ver muchas columnas que caracterizan la predicción, incluidos los componentes de tendencia y estacionalidad, así como sus intervalos de confianza. La propia predicción se almacena en la columna `yhat`.\n",
    "\n",
    "La biblioteca Prophet tiene sus propias herramientas de visualización que nos permiten evaluar rápidamente el resultado.\n",
    "\n",
    "En primer lugar, existe un método llamado `Prophet.plot` que traza todos los puntos de la previsión:"
   ]
  },
  {
   "cell_type": "code",
   "execution_count": null,
   "metadata": {
    "id": "InzduNjDE5LR",
    "outputId": "ec4a01d7-2dd8-480e-fde6-fa568d2a65de"
   },
   "outputs": [],
   "source": [
    "m.plot(forecast);"
   ]
  },
  {
   "attachments": {},
   "cell_type": "markdown",
   "metadata": {
    "id": "GxqEXpGQE5LT"
   },
   "source": [
    "Este gráfico no parece muy informativo. La única conclusión definitiva que podemos sacar aquí es que el modelo trató muchos de los puntos de datos como valores atípicos.\n",
    "\n",
    "La segunda función `Prophet.plot_components` podría ser mucho más útil en nuestro caso. Nos permite observar por separado los distintos componentes del modelo: tendencia, estacionalidad anual y semanal. Además, si proporcionas información sobre días festivos y eventos a tu modelo, también se mostrarán en este gráfico.\n",
    "\n",
    "Vamos a probarlo:"
   ]
  },
  {
   "cell_type": "code",
   "execution_count": null,
   "metadata": {
    "id": "fJj20SHME5LU",
    "outputId": "ac19564d-aa9d-4043-e941-a50aef7367c3"
   },
   "outputs": [],
   "source": [
    "m.plot_components(forecast);"
   ]
  },
  {
   "attachments": {},
   "cell_type": "markdown",
   "metadata": {
    "id": "FBAwb_-8E5LV"
   },
   "source": [
    "### Calidad de las predicciones"
   ]
  },
  {
   "attachments": {},
   "cell_type": "markdown",
   "metadata": {
    "id": "8IAvjmW3E5LW"
   },
   "source": [
    "Evaluemos la calidad del algoritmo calculando la métrica del error para los últimos 30 días que hemos predicho. Para ello, necesitaremos las observaciones $y_i$ y los correspondientes valores predichos $\\hat{y}_i$.\n",
    "\n",
    "Vamos a ver en el objeto `previsión` que la biblioteca creado para nosotros:"
   ]
  },
  {
   "cell_type": "code",
   "execution_count": null,
   "metadata": {
    "id": "4j8kDjhLE5LW",
    "outputId": "9e7714db-08b0-44e4-da1c-0a440975e93e"
   },
   "outputs": [],
   "source": [
    "print(', '.join(forecast.columns))"
   ]
  },
  {
   "attachments": {},
   "cell_type": "markdown",
   "metadata": {
    "id": "YggjAKDjE5LY"
   },
   "source": [
    "Podemos ver que este marco de datos contiene toda la información que necesitamos excepto los valores históricos. Necesitamos unir el objeto `forecast` con los valores reales `y` del conjunto de datos original `df`. Para ello definiremos una función de ayuda que reutilizaremos más adelante:"
   ]
  },
  {
   "cell_type": "code",
   "execution_count": null,
   "metadata": {
    "collapsed": true,
    "id": "G0oWuyWfE5LZ",
    "jupyter": {
     "outputs_hidden": true
    }
   },
   "outputs": [],
   "source": [
    "def make_comparison_dataframe(historical, forecast):\n",
    "    \"\"\"Join the history with the forecast.\n",
    "    \n",
    "       The resulting dataset will contain columns 'yhat', 'yhat_lower', 'yhat_upper' and 'y'.\n",
    "    \"\"\"\n",
    "    return forecast.set_index('ds')[['yhat', 'yhat_lower', 'yhat_upper']].join(historical.set_index('ds'))"
   ]
  },
  {
   "attachments": {},
   "cell_type": "markdown",
   "metadata": {
    "id": "Fhj1gdB0E5La"
   },
   "source": [
    "Apliquemos esta función a nuestra última previsión:"
   ]
  },
  {
   "cell_type": "code",
   "execution_count": null,
   "metadata": {
    "id": "ocv5wSAGE5La",
    "outputId": "14bd4f1a-b57e-4834-ee30-0e8d82d37556"
   },
   "outputs": [],
   "source": [
    "cmp_df = make_comparison_dataframe(df, forecast)\n",
    "cmp_df[~cmp_df['y'].isna()]"
   ]
  },
  {
   "attachments": {},
   "cell_type": "markdown",
   "metadata": {
    "id": "AzG3kwsRE5Lc"
   },
   "source": [
    "Calcularemos ahora el MAPE y MAE obtenido:"
   ]
  },
  {
   "cell_type": "code",
   "execution_count": null,
   "metadata": {},
   "outputs": [],
   "source": [
    "df_t = cmp_df[~cmp_df['y'].isna()]\n",
    "    \n",
    "# Ahora calculamos los valores de e_i y p_i según las fórmulas dadas en el artículo anterior.\n",
    "df_t['e'] = df_t['y'] - df_t['yhat']\n",
    "df_t['p'] = 100 * df_t['e'] / df_t['y']\n",
    "\n",
    "print(\"MAPE\", np.mean(np.abs(df_t['p'])))\n",
    "print(\"MAE\", np.mean(np.abs(df_t['e'])))"
   ]
  },
  {
   "cell_type": "code",
   "execution_count": null,
   "metadata": {},
   "outputs": [],
   "source": [
    "test_forecast = pd.concat([df[-prediction_size:],forecast[['yhat', 'yhat_lower', 'yhat_upper']][-prediction_size:]], axis=1)\n",
    "\n",
    "# Ahora calculamos los valores de e_i y p_i según las fórmulas dadas en el artículo anterior.\n",
    "test_forecast['e'] = test_forecast['y'] - test_forecast['yhat']\n",
    "test_forecast['p'] = 100 * test_forecast['e'] / test_forecast['y']\n",
    "\n",
    "print(\"MAPE\", np.mean(np.abs(test_forecast['p'])))\n",
    "print(\"MAE\", np.mean(np.abs(test_forecast['e'])))"
   ]
  },
  {
   "cell_type": "markdown",
   "metadata": {},
   "source": [
    "# Alternativas (Nixtla)\n",
    "\n",
    "Nixtla es una empresa que trabaja en el dominio del forecast en exclusiva. Ofrece una plataforma de fácil uso llamada MLForecast donde se emplean modelos de ML para realizar las predicciones: https://github.com/Nixtla/mlforecast\n",
    "\n",
    "Se trata de una librería que permite automatizar la ingeniería de características necesarias empleando modelos como proveedores de predicción."
   ]
  },
  {
   "cell_type": "code",
   "execution_count": null,
   "metadata": {},
   "outputs": [],
   "source": [
    "# !pip install mlforecast"
   ]
  },
  {
   "cell_type": "markdown",
   "metadata": {},
   "source": [
    "También son los creadores de TimeGPT, pero esto lo veremos más adelante."
   ]
  },
  {
   "attachments": {},
   "cell_type": "markdown",
   "metadata": {
    "id": "t16kwyswE5L1"
   },
   "source": [
    "## Resumen"
   ]
  },
  {
   "attachments": {},
   "cell_type": "markdown",
   "metadata": {
    "id": "F9qNYOyCE5L1"
   },
   "source": [
    "Hemos echado un vistazo a *Prophet*, una biblioteca de predicción de código abierto orientada específicamente a las series temporales empresariales. También hemos realizado algunas prácticas de predicción de series temporales.\n",
    "\n",
    "Como hemos visto, la biblioteca Prophet no hace maravillas, y sus predicciones out-of-box no son [ideales](https://en.wikipedia.org/wiki/No_free_lunch_in_search_and_optimization). Sigue correspondiendo al científico de datos explorar los resultados de la predicción, ajustar los parámetros del modelo y transformar los datos cuando sea necesario.\n",
    "\n",
    "Sin embargo, esta biblioteca es fácil de usar y personalizar. La sola posibilidad de tener en cuenta los días anormales que el analista conoce de antemano podría marcar la diferencia en algunos casos.\n",
    "\n",
    "En definitiva, merece la pena que la biblioteca Prophet forme parte de su caja de herramientas analíticas."
   ]
  },
  {
   "attachments": {},
   "cell_type": "markdown",
   "metadata": {
    "id": "_jE1cdoJE5L2"
   },
   "source": [
    "Referencias:\n",
    "\n",
    "- Official [Prophet repository](https://github.com/facebookincubator/prophet) on GitHub.\n",
    "- Official [Prophet documentation](https://facebookincubator.github.io/prophet/docs/quick_start.html).\n",
    "- Sean J. Taylor, Benjamin Letham [\"Forecasting at scale\"](https://facebookincubator.github.io/prophet/static/prophet_paper_20170113.pdf) — scientific paper explaining the algorithm which lays the foundation of `Prophet`.\n",
    "- [Forecasting Website Traffic Using Facebook’s Prophet Library](http://pbpython.com/prophet-overview.html) — `Prophet` overview with an example of website traffic forecasting.\n",
    "- Rob J. Hyndman, George Athanasopoulos [\"Forecasting: principles and practice\"](https://www.otexts.org/fpp) – a very good online book about time series forecasting."
   ]
  }
 ],
 "metadata": {
  "colab": {
   "name": "timeseries_facebook_prophet.ipynb",
   "provenance": []
  },
  "kernelspec": {
   "display_name": "Python 3",
   "language": "python",
   "name": "python3"
  },
  "language_info": {
   "codemirror_mode": {
    "name": "ipython",
    "version": 3
   },
   "file_extension": ".py",
   "mimetype": "text/x-python",
   "name": "python",
   "nbconvert_exporter": "python",
   "pygments_lexer": "ipython3",
   "version": "3.11.9"
  },
  "vscode": {
   "interpreter": {
    "hash": "90139cb9a825bf3d63f6f6704e828dbd1ff7edbd4d0c6e906a71235d6efc74af"
   }
  }
 },
 "nbformat": 4,
 "nbformat_minor": 4
}
